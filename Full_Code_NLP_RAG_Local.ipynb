{
  "cells": [
    {
      "cell_type": "markdown",
      "metadata": {
        "id": "3CNz35ia6Bz3"
      },
      "source": [
        "## Problem Statement"
      ]
    },
    {
      "cell_type": "markdown",
      "metadata": {
        "id": "CkRbhMJH6Bz3"
      },
      "source": [
        "### Business Context"
      ]
    },
    {
      "cell_type": "markdown",
      "metadata": {
        "id": "3PBm5xaj6Bz3"
      },
      "source": [
        "The healthcare industry is rapidly evolving, with professionals facing increasing challenges in managing vast volumes of medical data while delivering accurate and timely diagnoses. The need for quick access to comprehensive, reliable, and up-to-date medical knowledge is critical for improving patient outcomes and ensuring informed decision-making in a fast-paced environment.\n",
        "\n",
        "Healthcare professionals often encounter information overload, struggling to sift through extensive research and data to create accurate diagnoses and treatment plans. This challenge is amplified by the need for efficiency, particularly in emergencies, where time-sensitive decisions are vital. Furthermore, access to trusted, current medical information from renowned manuals and research papers is essential for maintaining high standards of care.\n",
        "\n",
        "To address these challenges, healthcare centers can focus on integrating systems that streamline access to medical knowledge, provide tools to support quick decision-making, and enhance efficiency. Leveraging centralized knowledge platforms and ensuring healthcare providers have continuous access to reliable resources can significantly improve patient care and operational effectiveness."
      ]
    },
    {
      "cell_type": "markdown",
      "metadata": {
        "id": "1xDPsqvO6Bz5"
      },
      "source": [
        "**Common Questions to Answer**\n",
        "\n",
        "**1. Diagnostic Assistance**: \"What are the common symptoms and treatments for pulmonary embolism?\"\n",
        "\n",
        "**2. Drug Information**: \"Can you provide the trade names of medications used for treating hypertension?\"\n",
        "\n",
        "**3. Treatment Plans**: \"What are the first-line options and alternatives for managing rheumatoid arthritis?\"\n",
        "\n",
        "**4. Specialty Knowledge**: \"What are the diagnostic steps for suspected endocrine disorders?\"\n",
        "\n",
        "**5. Critical Care Protocols**: \"What is the protocol for managing sepsis in a critical care unit?\""
      ]
    },
    {
      "cell_type": "markdown",
      "metadata": {
        "id": "CARPKFwm6Bz4"
      },
      "source": [
        "### Objective"
      ]
    },
    {
      "cell_type": "markdown",
      "metadata": {
        "id": "dOElOEXq6Bz4"
      },
      "source": [
        "As an AI specialist, your task is to develop a RAG-based AI solution using renowned medical manuals to address healthcare challenges. The objective is to **understand** issues like information overload, **apply** AI techniques to streamline decision-making, **analyze** its impact on diagnostics and patient outcomes, **evaluate** its potential to standardize care practices, and **create** a functional prototype demonstrating its feasibility and effectiveness."
      ]
    },
    {
      "cell_type": "markdown",
      "metadata": {
        "id": "by9EvAnkSpZf"
      },
      "source": [
        "### Data Description"
      ]
    },
    {
      "cell_type": "markdown",
      "metadata": {
        "id": "Jw5LievCSru2"
      },
      "source": [
        "The **Merck Manuals** are medical references published by the American pharmaceutical company Merck & Co., that cover a wide range of medical topics, including disorders, tests, diagnoses, and drugs. The manuals have been published since 1899, when Merck & Co. was still a subsidiary of the German company Merck.\n",
        "\n",
        "The manual is provided as a PDF with over 4,000 pages divided into 23 sections."
      ]
    },
    {
      "cell_type": "markdown",
      "metadata": {
        "id": "lnwETBOE6Bz5"
      },
      "source": [
        "## Installing and Importing Necessary Libraries and Dependencies"
      ]
    },
    {
      "cell_type": "code",
      "execution_count": 1,
      "metadata": {
        "colab": {
          "base_uri": "https://localhost:8080/"
        },
        "id": "q4GgLhZhUM4V",
        "outputId": "5199a58a-d12e-4f69-dd31-4de62a8c1bfa"
      },
      "outputs": [
        {
          "name": "stdout",
          "output_type": "stream",
          "text": [
            "\n",
            "\u001b[1m[\u001b[0m\u001b[34;49mnotice\u001b[0m\u001b[1;39;49m]\u001b[0m\u001b[39;49m A new release of pip is available: \u001b[0m\u001b[31;49m24.0\u001b[0m\u001b[39;49m -> \u001b[0m\u001b[32;49m25.2\u001b[0m\n",
            "\u001b[1m[\u001b[0m\u001b[34;49mnotice\u001b[0m\u001b[1;39;49m]\u001b[0m\u001b[39;49m To update, run: \u001b[0m\u001b[32;49mpip install --upgrade pip\u001b[0m\n"
          ]
        }
      ],
      "source": [
        "# Installation for GPU llama-cpp-python\n",
        "# uncomment and run the following code in case GPU is being used\n",
        "#!CMAKE_ARGS=\"-DLLAMA_CUBLAS=on\" FORCE_CMAKE=1 pip install llama-cpp-python --force-reinstall --no-cache-dir -q\n",
        "\n",
        "# Installation for CPU llama-cpp-python\n",
        "# uncomment and run the following code in case GPU is not being used\n",
        "!CMAKE_ARGS=\"-DLLAMA_CUBLAS=off\" FORCE_CMAKE=1 pip install llama-cpp-python --force-reinstall --no-cache-dir -q\n",
        "\n",
        "#!CMAKE_ARGS=\"-DLLAMA_METAL=on\" pip install --force-reinstall --no-cache-dir llama-cpp-python"
      ]
    },
    {
      "cell_type": "code",
      "execution_count": 2,
      "metadata": {
        "colab": {
          "base_uri": "https://localhost:8080/"
        },
        "id": "0VOckDVkWGei",
        "outputId": "0ff6fa24-34cd-4dba-9a8c-1d8e8e3fda35"
      },
      "outputs": [
        {
          "name": "stdout",
          "output_type": "stream",
          "text": [
            "\n",
            "\u001b[1m[\u001b[0m\u001b[34;49mnotice\u001b[0m\u001b[1;39;49m]\u001b[0m\u001b[39;49m A new release of pip is available: \u001b[0m\u001b[31;49m24.0\u001b[0m\u001b[39;49m -> \u001b[0m\u001b[32;49m25.2\u001b[0m\n",
            "\u001b[1m[\u001b[0m\u001b[34;49mnotice\u001b[0m\u001b[1;39;49m]\u001b[0m\u001b[39;49m To update, run: \u001b[0m\u001b[32;49mpip install --upgrade pip\u001b[0m\n",
            "Note: you may need to restart the kernel to use updated packages.\n"
          ]
        }
      ],
      "source": [
        "# For installing the libraries & downloading models from HF Hub\n",
        "%pip install huggingface_hub pandas tiktoken pymupdf langchain langchain-community chromadb sentence-transformers numpy -q"
      ]
    },
    {
      "cell_type": "code",
      "execution_count": 3,
      "metadata": {
        "id": "RTY9GN4oWK3g"
      },
      "outputs": [
        {
          "name": "stderr",
          "output_type": "stream",
          "text": [
            "\n",
            "A module that was compiled using NumPy 1.x cannot be run in\n",
            "NumPy 2.3.3 as it may crash. To support both 1.x and 2.x\n",
            "versions of NumPy, modules must be compiled with NumPy 2.0.\n",
            "Some module may need to rebuild instead e.g. with 'pybind11>=2.12'.\n",
            "\n",
            "If you are a user of the module, the easiest solution will be to\n",
            "downgrade to 'numpy<2' or try to upgrade the affected module.\n",
            "We expect that some modules will need time to support NumPy 2.\n",
            "\n",
            "Traceback (most recent call last):  File \"<frozen runpy>\", line 198, in _run_module_as_main\n",
            "  File \"<frozen runpy>\", line 88, in _run_code\n",
            "  File \"/Users/ggovvala/Development/Code/medical-diagnoses-rag/.venv/lib/python3.12/site-packages/ipykernel_launcher.py\", line 18, in <module>\n",
            "    app.launch_new_instance()\n",
            "  File \"/Users/ggovvala/Development/Code/medical-diagnoses-rag/.venv/lib/python3.12/site-packages/traitlets/config/application.py\", line 1075, in launch_instance\n",
            "    app.start()\n",
            "  File \"/Users/ggovvala/Development/Code/medical-diagnoses-rag/.venv/lib/python3.12/site-packages/ipykernel/kernelapp.py\", line 739, in start\n",
            "    self.io_loop.start()\n",
            "  File \"/Users/ggovvala/Development/Code/medical-diagnoses-rag/.venv/lib/python3.12/site-packages/tornado/platform/asyncio.py\", line 211, in start\n",
            "    self.asyncio_loop.run_forever()\n",
            "  File \"/usr/local/Cellar/python@3.12/3.12.4/Frameworks/Python.framework/Versions/3.12/lib/python3.12/asyncio/base_events.py\", line 641, in run_forever\n",
            "    self._run_once()\n",
            "  File \"/usr/local/Cellar/python@3.12/3.12.4/Frameworks/Python.framework/Versions/3.12/lib/python3.12/asyncio/base_events.py\", line 1987, in _run_once\n",
            "    handle._run()\n",
            "  File \"/usr/local/Cellar/python@3.12/3.12.4/Frameworks/Python.framework/Versions/3.12/lib/python3.12/asyncio/events.py\", line 88, in _run\n",
            "    self._context.run(self._callback, *self._args)\n",
            "  File \"/Users/ggovvala/Development/Code/medical-diagnoses-rag/.venv/lib/python3.12/site-packages/ipykernel/kernelbase.py\", line 519, in dispatch_queue\n",
            "    await self.process_one()\n",
            "  File \"/Users/ggovvala/Development/Code/medical-diagnoses-rag/.venv/lib/python3.12/site-packages/ipykernel/kernelbase.py\", line 508, in process_one\n",
            "    await dispatch(*args)\n",
            "  File \"/Users/ggovvala/Development/Code/medical-diagnoses-rag/.venv/lib/python3.12/site-packages/ipykernel/kernelbase.py\", line 400, in dispatch_shell\n",
            "    await result\n",
            "  File \"/Users/ggovvala/Development/Code/medical-diagnoses-rag/.venv/lib/python3.12/site-packages/ipykernel/ipkernel.py\", line 368, in execute_request\n",
            "    await super().execute_request(stream, ident, parent)\n",
            "  File \"/Users/ggovvala/Development/Code/medical-diagnoses-rag/.venv/lib/python3.12/site-packages/ipykernel/kernelbase.py\", line 767, in execute_request\n",
            "    reply_content = await reply_content\n",
            "  File \"/Users/ggovvala/Development/Code/medical-diagnoses-rag/.venv/lib/python3.12/site-packages/ipykernel/ipkernel.py\", line 455, in do_execute\n",
            "    res = shell.run_cell(\n",
            "  File \"/Users/ggovvala/Development/Code/medical-diagnoses-rag/.venv/lib/python3.12/site-packages/ipykernel/zmqshell.py\", line 577, in run_cell\n",
            "    return super().run_cell(*args, **kwargs)\n",
            "  File \"/Users/ggovvala/Development/Code/medical-diagnoses-rag/.venv/lib/python3.12/site-packages/IPython/core/interactiveshell.py\", line 3116, in run_cell\n",
            "    result = self._run_cell(\n",
            "  File \"/Users/ggovvala/Development/Code/medical-diagnoses-rag/.venv/lib/python3.12/site-packages/IPython/core/interactiveshell.py\", line 3171, in _run_cell\n",
            "    result = runner(coro)\n",
            "  File \"/Users/ggovvala/Development/Code/medical-diagnoses-rag/.venv/lib/python3.12/site-packages/IPython/core/async_helpers.py\", line 128, in _pseudo_sync_runner\n",
            "    coro.send(None)\n",
            "  File \"/Users/ggovvala/Development/Code/medical-diagnoses-rag/.venv/lib/python3.12/site-packages/IPython/core/interactiveshell.py\", line 3394, in run_cell_async\n",
            "    has_raised = await self.run_ast_nodes(code_ast.body, cell_name,\n",
            "  File \"/Users/ggovvala/Development/Code/medical-diagnoses-rag/.venv/lib/python3.12/site-packages/IPython/core/interactiveshell.py\", line 3639, in run_ast_nodes\n",
            "    if await self.run_code(code, result, async_=asy):\n",
            "  File \"/Users/ggovvala/Development/Code/medical-diagnoses-rag/.venv/lib/python3.12/site-packages/IPython/core/interactiveshell.py\", line 3699, in run_code\n",
            "    exec(code_obj, self.user_global_ns, self.user_ns)\n",
            "  File \"/var/folders/8d/5dkqy6zs28l9qkl92_znffzr0000gn/T/ipykernel_1102/3455432875.py\", line 8, in <module>\n",
            "    from langchain_community.document_loaders import PyMuPDFLoader\n",
            "  File \"/Users/ggovvala/Development/Code/medical-diagnoses-rag/.venv/lib/python3.12/site-packages/langchain_community/document_loaders/__init__.py\", line 740, in __getattr__\n",
            "    module = importlib.import_module(_module_lookup[name])\n",
            "  File \"/usr/local/Cellar/python@3.12/3.12.4/Frameworks/Python.framework/Versions/3.12/lib/python3.12/importlib/__init__.py\", line 90, in import_module\n",
            "    return _bootstrap._gcd_import(name[level:], package, level)\n",
            "  File \"/Users/ggovvala/Development/Code/medical-diagnoses-rag/.venv/lib/python3.12/site-packages/langchain_community/document_loaders/pdf.py\", line 31, in <module>\n",
            "    from langchain_community.document_loaders.parsers.images import BaseImageBlobParser\n",
            "  File \"/Users/ggovvala/Development/Code/medical-diagnoses-rag/.venv/lib/python3.12/site-packages/langchain_community/document_loaders/parsers/images.py\", line 10, in <module>\n",
            "    from langchain_core.language_models import BaseChatModel\n",
            "  File \"/Users/ggovvala/Development/Code/medical-diagnoses-rag/.venv/lib/python3.12/site-packages/langchain_core/language_models/__init__.py\", line 112, in __getattr__\n",
            "    result = import_attr(attr_name, module_name, __spec__.parent)\n",
            "  File \"/Users/ggovvala/Development/Code/medical-diagnoses-rag/.venv/lib/python3.12/site-packages/langchain_core/_import_utils.py\", line 36, in import_attr\n",
            "    module = import_module(f\".{module_name}\", package=package)\n",
            "  File \"/usr/local/Cellar/python@3.12/3.12.4/Frameworks/Python.framework/Versions/3.12/lib/python3.12/importlib/__init__.py\", line 90, in import_module\n",
            "    return _bootstrap._gcd_import(name[level:], package, level)\n",
            "  File \"/Users/ggovvala/Development/Code/medical-diagnoses-rag/.venv/lib/python3.12/site-packages/langchain_core/language_models/chat_models.py\", line 31, in <module>\n",
            "    from langchain_core.language_models.base import (\n",
            "  File \"/Users/ggovvala/Development/Code/medical-diagnoses-rag/.venv/lib/python3.12/site-packages/langchain_core/language_models/base.py\", line 44, in <module>\n",
            "    from transformers import GPT2TokenizerFast  # type: ignore[import-not-found]\n",
            "  File \"/Users/ggovvala/Development/Code/medical-diagnoses-rag/.venv/lib/python3.12/site-packages/transformers/__init__.py\", line 27, in <module>\n",
            "    from . import dependency_versions_check\n",
            "  File \"/Users/ggovvala/Development/Code/medical-diagnoses-rag/.venv/lib/python3.12/site-packages/transformers/dependency_versions_check.py\", line 16, in <module>\n",
            "    from .utils.versions import require_version, require_version_core\n",
            "  File \"/Users/ggovvala/Development/Code/medical-diagnoses-rag/.venv/lib/python3.12/site-packages/transformers/utils/__init__.py\", line 24, in <module>\n",
            "    from .auto_docstring import (\n",
            "  File \"/Users/ggovvala/Development/Code/medical-diagnoses-rag/.venv/lib/python3.12/site-packages/transformers/utils/auto_docstring.py\", line 30, in <module>\n",
            "    from .generic import ModelOutput\n",
            "  File \"/Users/ggovvala/Development/Code/medical-diagnoses-rag/.venv/lib/python3.12/site-packages/transformers/utils/generic.py\", line 51, in <module>\n",
            "    import torch\n",
            "  File \"/Users/ggovvala/Development/Code/medical-diagnoses-rag/.venv/lib/python3.12/site-packages/torch/__init__.py\", line 1477, in <module>\n",
            "    from .functional import *  # noqa: F403\n",
            "  File \"/Users/ggovvala/Development/Code/medical-diagnoses-rag/.venv/lib/python3.12/site-packages/torch/functional.py\", line 9, in <module>\n",
            "    import torch.nn.functional as F\n",
            "  File \"/Users/ggovvala/Development/Code/medical-diagnoses-rag/.venv/lib/python3.12/site-packages/torch/nn/__init__.py\", line 1, in <module>\n",
            "    from .modules import *  # noqa: F403\n",
            "  File \"/Users/ggovvala/Development/Code/medical-diagnoses-rag/.venv/lib/python3.12/site-packages/torch/nn/modules/__init__.py\", line 35, in <module>\n",
            "    from .transformer import TransformerEncoder, TransformerDecoder, \\\n",
            "  File \"/Users/ggovvala/Development/Code/medical-diagnoses-rag/.venv/lib/python3.12/site-packages/torch/nn/modules/transformer.py\", line 20, in <module>\n",
            "    device: torch.device = torch.device(torch._C._get_default_device()),  # torch.device('cpu'),\n",
            "/Users/ggovvala/Development/Code/medical-diagnoses-rag/.venv/lib/python3.12/site-packages/torch/nn/modules/transformer.py:20: UserWarning: Failed to initialize NumPy: _ARRAY_API not found (Triggered internally at /Users/runner/work/pytorch/pytorch/pytorch/torch/csrc/utils/tensor_numpy.cpp:84.)\n",
            "  device: torch.device = torch.device(torch._C._get_default_device()),  # torch.device('cpu'),\n"
          ]
        }
      ],
      "source": [
        "#Libraries for processing dataframes,text\n",
        "import json,os\n",
        "import tiktoken\n",
        "import pandas as pd\n",
        "\n",
        "#Libraries for Loading Data, Chunking, Embedding, and Vector Databases\n",
        "from langchain.text_splitter import RecursiveCharacterTextSplitter\n",
        "from langchain_community.document_loaders import PyMuPDFLoader\n",
        "from langchain_community.embeddings.sentence_transformer import SentenceTransformerEmbeddings\n",
        "from langchain_community.vectorstores import Chroma\n",
        "\n",
        "#Libraries for downloading and loading the llm\n",
        "from huggingface_hub import hf_hub_download\n",
        "from llama_cpp import Llama"
      ]
    },
    {
      "cell_type": "markdown",
      "metadata": {
        "id": "TtZWqj0wFTS1"
      },
      "source": [
        "## Question Answering using LLM"
      ]
    },
    {
      "cell_type": "markdown",
      "metadata": {
        "id": "Uq1lhM4WFTS2"
      },
      "source": [
        "#### Downloading and Loading the model"
      ]
    },
    {
      "cell_type": "code",
      "execution_count": 4,
      "metadata": {
        "id": "dA3XQMWmQLJp"
      },
      "outputs": [
        {
          "name": "stdout",
          "output_type": "stream",
          "text": [
            "🔄 Downloading Mistral-7B model for Intel Mac...\n",
            "Model: mistralai/Mistral-7B-Instruct-v0.2\n",
            "File: mistral-7b-instruct-v0.2.Q4_K_M.gguf\n",
            "⚠️  This may take several minutes (model size: ~4GB)\n"
          ]
        },
        {
          "data": {
            "application/vnd.jupyter.widget-view+json": {
              "model_id": "83c056dadad94ad3b18db0841462b333",
              "version_major": 2,
              "version_minor": 0
            },
            "text/plain": [
              "mistral-7b-instruct-v0.2.Q4_K_M.gguf:   0%|          | 0.00/4.37G [00:00<?, ?B/s]"
            ]
          },
          "metadata": {},
          "output_type": "display_data"
        },
        {
          "name": "stdout",
          "output_type": "stream",
          "text": [
            "✅ Model downloaded successfully!\n",
            "📁 Model path: ./models/models--TheBloke--Mistral-7B-Instruct-v0.2-GGUF/snapshots/3a6fbf4a41a1d52e415a4958cde6856d34b2db93/mistral-7b-instruct-v0.2.Q4_K_M.gguf\n",
            "🔄 Loading model into memory...\n"
          ]
        },
        {
          "name": "stderr",
          "output_type": "stream",
          "text": [
            "llama_context: n_ctx_per_seq (2048) < n_ctx_train (32768) -- the full capacity of the model will not be utilized\n",
            "ggml_metal_init: skipping kernel_soft_max_f16                      (not supported)\n",
            "ggml_metal_init: skipping kernel_soft_max_f16_4                    (not supported)\n",
            "ggml_metal_init: skipping kernel_soft_max_f32                      (not supported)\n",
            "ggml_metal_init: skipping kernel_soft_max_f32_4                    (not supported)\n",
            "ggml_metal_init: skipping kernel_soft_max_f16                      (not supported)\n",
            "ggml_metal_init: skipping kernel_soft_max_f16_4                    (not supported)\n",
            "ggml_metal_init: skipping kernel_soft_max_f32                      (not supported)\n",
            "ggml_metal_init: skipping kernel_soft_max_f32_4                    (not supported)\n",
            "ggml_metal_init: skipping kernel_get_rows_bf16                     (not supported)\n",
            "ggml_metal_init: skipping kernel_get_rows_bf16                     (not supported)\n",
            "ggml_metal_init: skipping kernel_set_rows_bf16                     (not supported)\n",
            "ggml_metal_init: skipping kernel_set_rows_bf16                     (not supported)\n",
            "ggml_metal_init: skipping kernel_rms_norm                          (not supported)\n",
            "ggml_metal_init: skipping kernel_rms_norm_mul                      (not supported)\n",
            "ggml_metal_init: skipping kernel_rms_norm_mul_add                  (not supported)\n",
            "ggml_metal_init: skipping kernel_l2_norm                           (not supported)\n",
            "ggml_metal_init: skipping kernel_group_norm                        (not supported)\n",
            "ggml_metal_init: skipping kernel_rms_norm                          (not supported)\n",
            "ggml_metal_init: skipping kernel_rms_norm_mul                      (not supported)\n",
            "ggml_metal_init: skipping kernel_rms_norm_mul_add                  (not supported)\n",
            "ggml_metal_init: skipping kernel_l2_norm                           (not supported)\n",
            "ggml_metal_init: skipping kernel_group_norm                        (not supported)\n",
            "ggml_metal_init: skipping kernel_mul_mv_f32_f32                    (not supported)\n",
            "ggml_metal_init: skipping kernel_mul_mv_f32_f32                    (not supported)\n",
            "ggml_metal_init: skipping kernel_mul_mv_bf16_f32                   (not supported)\n",
            "ggml_metal_init: skipping kernel_mul_mv_bf16_f32_c4                (not supported)\n",
            "ggml_metal_init: skipping kernel_mul_mv_bf16_f32_1row              (not supported)\n",
            "ggml_metal_init: skipping kernel_mul_mv_bf16_f32_l4                (not supported)\n",
            "ggml_metal_init: skipping kernel_mul_mv_bf16_bf16                  (not supported)\n",
            "ggml_metal_init: skipping kernel_mul_mv_f16_f32                    (not supported)\n",
            "ggml_metal_init: skipping kernel_mul_mv_bf16_f32                   (not supported)\n",
            "ggml_metal_init: skipping kernel_mul_mv_bf16_f32_c4                (not supported)\n",
            "ggml_metal_init: skipping kernel_mul_mv_bf16_f32_1row              (not supported)\n",
            "ggml_metal_init: skipping kernel_mul_mv_bf16_f32_l4                (not supported)\n",
            "ggml_metal_init: skipping kernel_mul_mv_bf16_bf16                  (not supported)\n",
            "ggml_metal_init: skipping kernel_mul_mv_f16_f32                    (not supported)\n",
            "ggml_metal_init: skipping kernel_mul_mv_f16_f32_1row               (not supported)\n",
            "ggml_metal_init: skipping kernel_mul_mv_f16_f32_l4                 (not supported)\n",
            "ggml_metal_init: skipping kernel_mul_mv_f16_f16                    (not supported)\n",
            "ggml_metal_init: skipping kernel_mul_mv_q4_0_f32                   (not supported)\n",
            "ggml_metal_init: skipping kernel_mul_mv_q4_1_f32                   (not supported)\n",
            "ggml_metal_init: skipping kernel_mul_mv_q5_0_f32                   (not supported)\n",
            "ggml_metal_init: skipping kernel_mul_mv_q5_1_f32                   (not supported)\n",
            "ggml_metal_init: skipping kernel_mul_mv_q8_0_f32                   (not supported)\n",
            "ggml_metal_init: skipping kernel_mul_mv_mxfp4_f32                  (not supported)\n",
            "ggml_metal_init: skipping kernel_mul_mv_ext_f16_f32_r1_2           (not supported)\n",
            "ggml_metal_init: skipping kernel_mul_mv_ext_f16_f32_r1_3           (not supported)\n",
            "ggml_metal_init: skipping kernel_mul_mv_ext_f16_f32_r1_4           (not supported)\n",
            "ggml_metal_init: skipping kernel_mul_mv_ext_f16_f32_r1_5           (not supported)\n",
            "ggml_metal_init: skipping kernel_mul_mv_ext_q4_0_f32_r1_2          (not supported)\n",
            "ggml_metal_init: skipping kernel_mul_mv_f16_f32_1row               (not supported)\n",
            "ggml_metal_init: skipping kernel_mul_mv_f16_f32_l4                 (not supported)\n",
            "ggml_metal_init: skipping kernel_mul_mv_f16_f16                    (not supported)\n",
            "ggml_metal_init: skipping kernel_mul_mv_q4_0_f32                   (not supported)\n",
            "ggml_metal_init: skipping kernel_mul_mv_q4_1_f32                   (not supported)\n",
            "ggml_metal_init: skipping kernel_mul_mv_q5_0_f32                   (not supported)\n",
            "ggml_metal_init: skipping kernel_mul_mv_q5_1_f32                   (not supported)\n",
            "ggml_metal_init: skipping kernel_mul_mv_q8_0_f32                   (not supported)\n",
            "ggml_metal_init: skipping kernel_mul_mv_mxfp4_f32                  (not supported)\n",
            "ggml_metal_init: skipping kernel_mul_mv_ext_f16_f32_r1_2           (not supported)\n",
            "ggml_metal_init: skipping kernel_mul_mv_ext_f16_f32_r1_3           (not supported)\n",
            "ggml_metal_init: skipping kernel_mul_mv_ext_f16_f32_r1_4           (not supported)\n",
            "ggml_metal_init: skipping kernel_mul_mv_ext_f16_f32_r1_5           (not supported)\n",
            "ggml_metal_init: skipping kernel_mul_mv_ext_q4_0_f32_r1_2          (not supported)\n",
            "ggml_metal_init: skipping kernel_mul_mv_ext_q4_0_f32_r1_3          (not supported)\n",
            "ggml_metal_init: skipping kernel_mul_mv_ext_q4_0_f32_r1_4          (not supported)\n",
            "ggml_metal_init: skipping kernel_mul_mv_ext_q4_0_f32_r1_5          (not supported)\n",
            "ggml_metal_init: skipping kernel_mul_mv_ext_q4_1_f32_r1_2          (not supported)\n",
            "ggml_metal_init: skipping kernel_mul_mv_ext_q4_1_f32_r1_3          (not supported)\n",
            "ggml_metal_init: skipping kernel_mul_mv_ext_q4_1_f32_r1_4          (not supported)\n",
            "ggml_metal_init: skipping kernel_mul_mv_ext_q4_1_f32_r1_5          (not supported)\n",
            "ggml_metal_init: skipping kernel_mul_mv_ext_q5_0_f32_r1_2          (not supported)\n",
            "ggml_metal_init: skipping kernel_mul_mv_ext_q5_0_f32_r1_3          (not supported)\n",
            "ggml_metal_init: skipping kernel_mul_mv_ext_q5_0_f32_r1_4          (not supported)\n",
            "ggml_metal_init: skipping kernel_mul_mv_ext_q5_0_f32_r1_5          (not supported)\n",
            "ggml_metal_init: skipping kernel_mul_mv_ext_q5_1_f32_r1_2          (not supported)\n",
            "ggml_metal_init: skipping kernel_mul_mv_ext_q5_1_f32_r1_3          (not supported)\n",
            "ggml_metal_init: skipping kernel_mul_mv_ext_q5_1_f32_r1_4          (not supported)\n",
            "ggml_metal_init: skipping kernel_mul_mv_ext_q4_0_f32_r1_3          (not supported)\n",
            "ggml_metal_init: skipping kernel_mul_mv_ext_q4_0_f32_r1_4          (not supported)\n",
            "ggml_metal_init: skipping kernel_mul_mv_ext_q4_0_f32_r1_5          (not supported)\n",
            "ggml_metal_init: skipping kernel_mul_mv_ext_q4_1_f32_r1_2          (not supported)\n",
            "ggml_metal_init: skipping kernel_mul_mv_ext_q4_1_f32_r1_3          (not supported)\n",
            "ggml_metal_init: skipping kernel_mul_mv_ext_q4_1_f32_r1_4          (not supported)\n",
            "ggml_metal_init: skipping kernel_mul_mv_ext_q4_1_f32_r1_5          (not supported)\n",
            "ggml_metal_init: skipping kernel_mul_mv_ext_q5_0_f32_r1_2          (not supported)\n",
            "ggml_metal_init: skipping kernel_mul_mv_ext_q5_0_f32_r1_3          (not supported)\n",
            "ggml_metal_init: skipping kernel_mul_mv_ext_q5_0_f32_r1_4          (not supported)\n",
            "ggml_metal_init: skipping kernel_mul_mv_ext_q5_0_f32_r1_5          (not supported)\n",
            "ggml_metal_init: skipping kernel_mul_mv_ext_q5_1_f32_r1_2          (not supported)\n",
            "ggml_metal_init: skipping kernel_mul_mv_ext_q5_1_f32_r1_3          (not supported)\n",
            "ggml_metal_init: skipping kernel_mul_mv_ext_q5_1_f32_r1_4          (not supported)\n",
            "ggml_metal_init: skipping kernel_mul_mv_ext_q5_1_f32_r1_5          (not supported)\n",
            "ggml_metal_init: skipping kernel_mul_mv_ext_q8_0_f32_r1_2          (not supported)\n",
            "ggml_metal_init: skipping kernel_mul_mv_ext_q8_0_f32_r1_3          (not supported)\n",
            "ggml_metal_init: skipping kernel_mul_mv_ext_q5_1_f32_r1_5          (not supported)\n",
            "ggml_metal_init: skipping kernel_mul_mv_ext_q8_0_f32_r1_2          (not supported)\n",
            "ggml_metal_init: skipping kernel_mul_mv_ext_q8_0_f32_r1_3          (not supported)\n",
            "ggml_metal_init: skipping kernel_mul_mv_ext_q8_0_f32_r1_4          (not supported)\n",
            "ggml_metal_init: skipping kernel_mul_mv_ext_q8_0_f32_r1_5          (not supported)\n",
            "ggml_metal_init: skipping kernel_mul_mv_ext_mxfp4_f32_r1_2         (not supported)\n",
            "ggml_metal_init: skipping kernel_mul_mv_ext_mxfp4_f32_r1_3         (not supported)\n",
            "ggml_metal_init: skipping kernel_mul_mv_ext_mxfp4_f32_r1_4         (not supported)\n",
            "ggml_metal_init: skipping kernel_mul_mv_ext_mxfp4_f32_r1_5         (not supported)\n",
            "ggml_metal_init: skipping kernel_mul_mv_ext_q4_K_f32_r1_2          (not supported)\n",
            "ggml_metal_init: skipping kernel_mul_mv_ext_q4_K_f32_r1_3          (not supported)\n",
            "ggml_metal_init: skipping kernel_mul_mv_ext_q4_K_f32_r1_4          (not supported)\n",
            "ggml_metal_init: skipping kernel_mul_mv_ext_q4_K_f32_r1_5          (not supported)\n",
            "ggml_metal_init: skipping kernel_mul_mv_ext_q8_0_f32_r1_4          (not supported)\n",
            "ggml_metal_init: skipping kernel_mul_mv_ext_q8_0_f32_r1_5          (not supported)\n",
            "ggml_metal_init: skipping kernel_mul_mv_ext_mxfp4_f32_r1_2         (not supported)\n",
            "ggml_metal_init: skipping kernel_mul_mv_ext_mxfp4_f32_r1_3         (not supported)\n",
            "ggml_metal_init: skipping kernel_mul_mv_ext_mxfp4_f32_r1_4         (not supported)\n",
            "ggml_metal_init: skipping kernel_mul_mv_ext_mxfp4_f32_r1_5         (not supported)\n",
            "ggml_metal_init: skipping kernel_mul_mv_ext_q4_K_f32_r1_2          (not supported)\n",
            "ggml_metal_init: skipping kernel_mul_mv_ext_q4_K_f32_r1_3          (not supported)\n",
            "ggml_metal_init: skipping kernel_mul_mv_ext_q4_K_f32_r1_4          (not supported)\n",
            "ggml_metal_init: skipping kernel_mul_mv_ext_q4_K_f32_r1_5          (not supported)\n",
            "ggml_metal_init: skipping kernel_mul_mv_ext_q5_K_f32_r1_2          (not supported)\n",
            "ggml_metal_init: skipping kernel_mul_mv_ext_q5_K_f32_r1_3          (not supported)\n",
            "ggml_metal_init: skipping kernel_mul_mv_ext_q5_K_f32_r1_4          (not supported)\n",
            "ggml_metal_init: skipping kernel_mul_mv_ext_q5_K_f32_r1_5          (not supported)\n",
            "ggml_metal_init: skipping kernel_mul_mv_ext_q6_K_f32_r1_2          (not supported)\n",
            "ggml_metal_init: skipping kernel_mul_mv_ext_q6_K_f32_r1_3          (not supported)\n",
            "ggml_metal_init: skipping kernel_mul_mv_ext_q6_K_f32_r1_4          (not supported)\n",
            "ggml_metal_init: skipping kernel_mul_mv_ext_q6_K_f32_r1_5          (not supported)\n",
            "ggml_metal_init: skipping kernel_mul_mv_ext_iq4_nl_f32_r1_2        (not supported)\n",
            "ggml_metal_init: skipping kernel_mul_mv_ext_iq4_nl_f32_r1_3        (not supported)\n",
            "ggml_metal_init: skipping kernel_mul_mv_ext_q5_K_f32_r1_2          (not supported)\n",
            "ggml_metal_init: skipping kernel_mul_mv_ext_q5_K_f32_r1_3          (not supported)\n",
            "ggml_metal_init: skipping kernel_mul_mv_ext_q5_K_f32_r1_4          (not supported)\n",
            "ggml_metal_init: skipping kernel_mul_mv_ext_q5_K_f32_r1_5          (not supported)\n",
            "ggml_metal_init: skipping kernel_mul_mv_ext_q6_K_f32_r1_2          (not supported)\n",
            "ggml_metal_init: skipping kernel_mul_mv_ext_q6_K_f32_r1_3          (not supported)\n",
            "ggml_metal_init: skipping kernel_mul_mv_ext_q6_K_f32_r1_4          (not supported)\n",
            "ggml_metal_init: skipping kernel_mul_mv_ext_q6_K_f32_r1_5          (not supported)\n",
            "ggml_metal_init: skipping kernel_mul_mv_ext_iq4_nl_f32_r1_2        (not supported)\n",
            "ggml_metal_init: skipping kernel_mul_mv_ext_iq4_nl_f32_r1_3        (not supported)\n",
            "ggml_metal_init: skipping kernel_mul_mv_ext_iq4_nl_f32_r1_4        (not supported)\n",
            "ggml_metal_init: skipping kernel_mul_mv_ext_iq4_nl_f32_r1_5        (not supported)\n",
            "ggml_metal_init: skipping kernel_mul_mv_q2_K_f32                   (not supported)\n",
            "ggml_metal_init: skipping kernel_mul_mv_q3_K_f32                   (not supported)\n",
            "ggml_metal_init: skipping kernel_mul_mv_q4_K_f32                   (not supported)\n",
            "ggml_metal_init: skipping kernel_mul_mv_q5_K_f32                   (not supported)\n",
            "ggml_metal_init: skipping kernel_mul_mv_q6_K_f32                   (not supported)\n",
            "ggml_metal_init: skipping kernel_mul_mv_iq2_xxs_f32                (not supported)\n",
            "ggml_metal_init: skipping kernel_mul_mv_iq2_xs_f32                 (not supported)\n",
            "ggml_metal_init: skipping kernel_mul_mv_iq3_xxs_f32                (not supported)\n",
            "ggml_metal_init: skipping kernel_mul_mv_iq3_s_f32                  (not supported)\n",
            "ggml_metal_init: skipping kernel_mul_mv_iq2_s_f32                  (not supported)\n",
            "ggml_metal_init: skipping kernel_mul_mv_iq1_s_f32                  (not supported)\n",
            "ggml_metal_init: skipping kernel_mul_mv_iq1_m_f32                  (not supported)\n",
            "ggml_metal_init: skipping kernel_mul_mv_iq4_nl_f32                 (not supported)\n",
            "ggml_metal_init: skipping kernel_mul_mv_iq4_xs_f32                 (not supported)\n",
            "ggml_metal_init: skipping kernel_mul_mv_id_f32_f32                 (not supported)\n",
            "ggml_metal_init: skipping kernel_mul_mv_id_f16_f32                 (not supported)\n",
            "ggml_metal_init: skipping kernel_mul_mv_id_bf16_f32                (not supported)\n",
            "ggml_metal_init: skipping kernel_mul_mv_ext_iq4_nl_f32_r1_4        (not supported)\n",
            "ggml_metal_init: skipping kernel_mul_mv_ext_iq4_nl_f32_r1_5        (not supported)\n",
            "ggml_metal_init: skipping kernel_mul_mv_q2_K_f32                   (not supported)\n",
            "ggml_metal_init: skipping kernel_mul_mv_q3_K_f32                   (not supported)\n",
            "ggml_metal_init: skipping kernel_mul_mv_q4_K_f32                   (not supported)\n",
            "ggml_metal_init: skipping kernel_mul_mv_q5_K_f32                   (not supported)\n",
            "ggml_metal_init: skipping kernel_mul_mv_q6_K_f32                   (not supported)\n",
            "ggml_metal_init: skipping kernel_mul_mv_iq2_xxs_f32                (not supported)\n",
            "ggml_metal_init: skipping kernel_mul_mv_iq2_xs_f32                 (not supported)\n",
            "ggml_metal_init: skipping kernel_mul_mv_iq3_xxs_f32                (not supported)\n",
            "ggml_metal_init: skipping kernel_mul_mv_iq3_s_f32                  (not supported)\n",
            "ggml_metal_init: skipping kernel_mul_mv_iq2_s_f32                  (not supported)\n",
            "ggml_metal_init: skipping kernel_mul_mv_iq1_s_f32                  (not supported)\n",
            "ggml_metal_init: skipping kernel_mul_mv_iq1_m_f32                  (not supported)\n",
            "ggml_metal_init: skipping kernel_mul_mv_iq4_nl_f32                 (not supported)\n",
            "ggml_metal_init: skipping kernel_mul_mv_iq4_xs_f32                 (not supported)\n",
            "ggml_metal_init: skipping kernel_mul_mv_id_f32_f32                 (not supported)\n",
            "ggml_metal_init: skipping kernel_mul_mv_id_f16_f32                 (not supported)\n",
            "ggml_metal_init: skipping kernel_mul_mv_id_bf16_f32                (not supported)\n",
            "ggml_metal_init: skipping kernel_mul_mv_id_q4_0_f32                (not supported)\n",
            "ggml_metal_init: skipping kernel_mul_mv_id_q4_1_f32                (not supported)\n",
            "ggml_metal_init: skipping kernel_mul_mv_id_q5_0_f32                (not supported)\n",
            "ggml_metal_init: skipping kernel_mul_mv_id_q5_1_f32                (not supported)\n",
            "ggml_metal_init: skipping kernel_mul_mv_id_q8_0_f32                (not supported)\n",
            "ggml_metal_init: skipping kernel_mul_mv_id_mxfp4_f32               (not supported)\n",
            "ggml_metal_init: skipping kernel_mul_mv_id_q2_K_f32                (not supported)\n",
            "ggml_metal_init: skipping kernel_mul_mv_id_q3_K_f32                (not supported)\n",
            "ggml_metal_init: skipping kernel_mul_mv_id_q4_K_f32                (not supported)\n",
            "ggml_metal_init: skipping kernel_mul_mv_id_q5_K_f32                (not supported)\n",
            "ggml_metal_init: skipping kernel_mul_mv_id_q6_K_f32                (not supported)\n",
            "ggml_metal_init: skipping kernel_mul_mv_id_iq2_xxs_f32             (not supported)\n",
            "ggml_metal_init: skipping kernel_mul_mv_id_iq2_xs_f32              (not supported)\n",
            "ggml_metal_init: skipping kernel_mul_mv_id_iq3_xxs_f32             (not supported)\n",
            "ggml_metal_init: skipping kernel_mul_mv_id_iq3_s_f32               (not supported)\n",
            "ggml_metal_init: skipping kernel_mul_mv_id_iq2_s_f32               (not supported)\n",
            "ggml_metal_init: skipping kernel_mul_mv_id_iq1_s_f32               (not supported)\n",
            "ggml_metal_init: skipping kernel_mul_mv_id_iq1_m_f32               (not supported)\n",
            "ggml_metal_init: skipping kernel_mul_mv_id_iq4_nl_f32              (not supported)\n",
            "ggml_metal_init: skipping kernel_mul_mv_id_iq4_xs_f32              (not supported)\n",
            "ggml_metal_init: skipping kernel_mul_mm_f32_f32                    (not supported)\n",
            "ggml_metal_init: skipping kernel_mul_mm_f16_f32                    (not supported)\n",
            "ggml_metal_init: skipping kernel_mul_mm_bf16_f32                   (not supported)\n",
            "ggml_metal_init: skipping kernel_mul_mm_q4_0_f32                   (not supported)\n",
            "ggml_metal_init: skipping kernel_mul_mm_q4_1_f32                   (not supported)\n",
            "ggml_metal_init: skipping kernel_mul_mv_id_q4_0_f32                (not supported)\n",
            "ggml_metal_init: skipping kernel_mul_mv_id_q4_1_f32                (not supported)\n",
            "ggml_metal_init: skipping kernel_mul_mv_id_q5_0_f32                (not supported)\n",
            "ggml_metal_init: skipping kernel_mul_mv_id_q5_1_f32                (not supported)\n",
            "ggml_metal_init: skipping kernel_mul_mv_id_q8_0_f32                (not supported)\n",
            "ggml_metal_init: skipping kernel_mul_mv_id_mxfp4_f32               (not supported)\n",
            "ggml_metal_init: skipping kernel_mul_mv_id_q2_K_f32                (not supported)\n",
            "ggml_metal_init: skipping kernel_mul_mv_id_q3_K_f32                (not supported)\n",
            "ggml_metal_init: skipping kernel_mul_mv_id_q4_K_f32                (not supported)\n",
            "ggml_metal_init: skipping kernel_mul_mv_id_q5_K_f32                (not supported)\n",
            "ggml_metal_init: skipping kernel_mul_mv_id_q6_K_f32                (not supported)\n",
            "ggml_metal_init: skipping kernel_mul_mv_id_iq2_xxs_f32             (not supported)\n",
            "ggml_metal_init: skipping kernel_mul_mv_id_iq2_xs_f32              (not supported)\n",
            "ggml_metal_init: skipping kernel_mul_mv_id_iq3_xxs_f32             (not supported)\n",
            "ggml_metal_init: skipping kernel_mul_mv_id_iq3_s_f32               (not supported)\n",
            "ggml_metal_init: skipping kernel_mul_mv_id_iq2_s_f32               (not supported)\n",
            "ggml_metal_init: skipping kernel_mul_mv_id_iq1_s_f32               (not supported)\n",
            "ggml_metal_init: skipping kernel_mul_mv_id_iq1_m_f32               (not supported)\n",
            "ggml_metal_init: skipping kernel_mul_mv_id_iq4_nl_f32              (not supported)\n",
            "ggml_metal_init: skipping kernel_mul_mv_id_iq4_xs_f32              (not supported)\n",
            "ggml_metal_init: skipping kernel_mul_mm_f32_f32                    (not supported)\n",
            "ggml_metal_init: skipping kernel_mul_mm_f16_f32                    (not supported)\n",
            "ggml_metal_init: skipping kernel_mul_mm_bf16_f32                   (not supported)\n",
            "ggml_metal_init: skipping kernel_mul_mm_q4_0_f32                   (not supported)\n",
            "ggml_metal_init: skipping kernel_mul_mm_q4_1_f32                   (not supported)\n",
            "ggml_metal_init: skipping kernel_mul_mm_q5_0_f32                   (not supported)\n",
            "ggml_metal_init: skipping kernel_mul_mm_q5_1_f32                   (not supported)\n",
            "ggml_metal_init: skipping kernel_mul_mm_q8_0_f32                   (not supported)\n",
            "ggml_metal_init: skipping kernel_mul_mm_mxfp4_f32                  (not supported)\n",
            "ggml_metal_init: skipping kernel_mul_mm_mxfp4_f32                  (not supported)\n",
            "ggml_metal_init: skipping kernel_mul_mm_q2_K_f32                   (not supported)\n",
            "ggml_metal_init: skipping kernel_mul_mm_q5_0_f32                   (not supported)\n",
            "ggml_metal_init: skipping kernel_mul_mm_q5_1_f32                   (not supported)\n",
            "ggml_metal_init: skipping kernel_mul_mm_q8_0_f32                   (not supported)\n",
            "ggml_metal_init: skipping kernel_mul_mm_mxfp4_f32                  (not supported)\n",
            "ggml_metal_init: skipping kernel_mul_mm_mxfp4_f32                  (not supported)\n",
            "ggml_metal_init: skipping kernel_mul_mm_q2_K_f32                   (not supported)\n",
            "ggml_metal_init: skipping kernel_mul_mm_q3_K_f32                   (not supported)\n",
            "ggml_metal_init: skipping kernel_mul_mm_q4_K_f32                   (not supported)\n",
            "ggml_metal_init: skipping kernel_mul_mm_q5_K_f32                   (not supported)\n",
            "ggml_metal_init: skipping kernel_mul_mm_q6_K_f32                   (not supported)\n",
            "ggml_metal_init: skipping kernel_mul_mm_q3_K_f32                   (not supported)\n",
            "ggml_metal_init: skipping kernel_mul_mm_q4_K_f32                   (not supported)\n",
            "ggml_metal_init: skipping kernel_mul_mm_q5_K_f32                   (not supported)\n",
            "ggml_metal_init: skipping kernel_mul_mm_q6_K_f32                   (not supported)\n",
            "ggml_metal_init: skipping kernel_mul_mm_iq2_xxs_f32                (not supported)\n",
            "ggml_metal_init: skipping kernel_mul_mm_iq2_xs_f32                 (not supported)\n",
            "ggml_metal_init: skipping kernel_mul_mm_iq3_xxs_f32                (not supported)\n",
            "ggml_metal_init: skipping kernel_mul_mm_iq3_s_f32                  (not supported)\n",
            "ggml_metal_init: skipping kernel_mul_mm_iq2_xxs_f32                (not supported)\n",
            "ggml_metal_init: skipping kernel_mul_mm_iq2_xs_f32                 (not supported)\n",
            "ggml_metal_init: skipping kernel_mul_mm_iq3_xxs_f32                (not supported)\n",
            "ggml_metal_init: skipping kernel_mul_mm_iq3_s_f32                  (not supported)\n",
            "ggml_metal_init: skipping kernel_mul_mm_iq2_s_f32                  (not supported)\n",
            "ggml_metal_init: skipping kernel_mul_mm_iq1_s_f32                  (not supported)\n",
            "ggml_metal_init: skipping kernel_mul_mm_iq1_m_f32                  (not supported)\n",
            "ggml_metal_init: skipping kernel_mul_mm_iq4_nl_f32                 (not supported)\n",
            "ggml_metal_init: skipping kernel_mul_mm_iq4_xs_f32                 (not supported)\n",
            "ggml_metal_init: skipping kernel_mul_mm_id_map0_f16                (not supported)\n",
            "ggml_metal_init: skipping kernel_mul_mm_iq2_s_f32                  (not supported)\n",
            "ggml_metal_init: skipping kernel_mul_mm_iq1_s_f32                  (not supported)\n",
            "ggml_metal_init: skipping kernel_mul_mm_iq1_m_f32                  (not supported)\n",
            "ggml_metal_init: skipping kernel_mul_mm_iq4_nl_f32                 (not supported)\n",
            "ggml_metal_init: skipping kernel_mul_mm_iq4_xs_f32                 (not supported)\n",
            "ggml_metal_init: skipping kernel_mul_mm_id_map0_f16                (not supported)\n",
            "ggml_metal_init: skipping kernel_mul_mm_id_map1_f32                (not supported)\n",
            "ggml_metal_init: skipping kernel_mul_mm_id_f32_f16                 (not supported)\n",
            "ggml_metal_init: skipping kernel_mul_mm_id_f16_f16                 (not supported)\n",
            "ggml_metal_init: skipping kernel_mul_mm_id_bf16_f16                (not supported)\n",
            "ggml_metal_init: skipping kernel_mul_mm_id_map1_f32                (not supported)\n",
            "ggml_metal_init: skipping kernel_mul_mm_id_f32_f16                 (not supported)\n",
            "ggml_metal_init: skipping kernel_mul_mm_id_f16_f16                 (not supported)\n",
            "ggml_metal_init: skipping kernel_mul_mm_id_bf16_f16                (not supported)\n",
            "ggml_metal_init: skipping kernel_mul_mm_id_q4_0_f16                (not supported)\n",
            "ggml_metal_init: skipping kernel_mul_mm_id_q4_1_f16                (not supported)\n",
            "ggml_metal_init: skipping kernel_mul_mm_id_q5_0_f16                (not supported)\n",
            "ggml_metal_init: skipping kernel_mul_mm_id_q4_0_f16                (not supported)\n",
            "ggml_metal_init: skipping kernel_mul_mm_id_q4_1_f16                (not supported)\n",
            "ggml_metal_init: skipping kernel_mul_mm_id_q5_0_f16                (not supported)\n",
            "ggml_metal_init: skipping kernel_mul_mm_id_q5_1_f16                (not supported)\n",
            "ggml_metal_init: skipping kernel_mul_mm_id_q8_0_f16                (not supported)\n",
            "ggml_metal_init: skipping kernel_mul_mm_id_mxfp4_f16               (not supported)\n",
            "ggml_metal_init: skipping kernel_mul_mm_id_q2_K_f16                (not supported)\n",
            "ggml_metal_init: skipping kernel_mul_mm_id_q5_1_f16                (not supported)\n",
            "ggml_metal_init: skipping kernel_mul_mm_id_q8_0_f16                (not supported)\n",
            "ggml_metal_init: skipping kernel_mul_mm_id_mxfp4_f16               (not supported)\n",
            "ggml_metal_init: skipping kernel_mul_mm_id_q2_K_f16                (not supported)\n",
            "ggml_metal_init: skipping kernel_mul_mm_id_q3_K_f16                (not supported)\n",
            "ggml_metal_init: skipping kernel_mul_mm_id_q4_K_f16                (not supported)\n",
            "ggml_metal_init: skipping kernel_mul_mm_id_q5_K_f16                (not supported)\n",
            "ggml_metal_init: skipping kernel_mul_mm_id_q6_K_f16                (not supported)\n",
            "ggml_metal_init: skipping kernel_mul_mm_id_q3_K_f16                (not supported)\n",
            "ggml_metal_init: skipping kernel_mul_mm_id_q4_K_f16                (not supported)\n",
            "ggml_metal_init: skipping kernel_mul_mm_id_q5_K_f16                (not supported)\n",
            "ggml_metal_init: skipping kernel_mul_mm_id_q6_K_f16                (not supported)\n",
            "ggml_metal_init: skipping kernel_mul_mm_id_iq2_xxs_f16             (not supported)\n",
            "ggml_metal_init: skipping kernel_mul_mm_id_iq2_xs_f16              (not supported)\n",
            "ggml_metal_init: skipping kernel_mul_mm_id_iq3_xxs_f16             (not supported)\n",
            "ggml_metal_init: skipping kernel_mul_mm_id_iq3_s_f16               (not supported)\n",
            "ggml_metal_init: skipping kernel_mul_mm_id_iq2_xxs_f16             (not supported)\n",
            "ggml_metal_init: skipping kernel_mul_mm_id_iq2_xs_f16              (not supported)\n",
            "ggml_metal_init: skipping kernel_mul_mm_id_iq3_xxs_f16             (not supported)\n",
            "ggml_metal_init: skipping kernel_mul_mm_id_iq3_s_f16               (not supported)\n",
            "ggml_metal_init: skipping kernel_mul_mm_id_iq2_s_f16               (not supported)\n",
            "ggml_metal_init: skipping kernel_mul_mm_id_iq1_s_f16               (not supported)\n",
            "ggml_metal_init: skipping kernel_mul_mm_id_iq1_m_f16               (not supported)\n",
            "ggml_metal_init: skipping kernel_mul_mm_id_iq4_nl_f16              (not supported)\n",
            "ggml_metal_init: skipping kernel_mul_mm_id_iq4_xs_f16              (not supported)\n",
            "ggml_metal_init: skipping kernel_mul_mm_id_iq2_s_f16               (not supported)\n",
            "ggml_metal_init: skipping kernel_mul_mm_id_iq1_s_f16               (not supported)\n",
            "ggml_metal_init: skipping kernel_mul_mm_id_iq1_m_f16               (not supported)\n",
            "ggml_metal_init: skipping kernel_mul_mm_id_iq4_nl_f16              (not supported)\n",
            "ggml_metal_init: skipping kernel_mul_mm_id_iq4_xs_f16              (not supported)\n",
            "ggml_metal_init: skipping kernel_flash_attn_ext_f16_h64            (not supported)\n",
            "ggml_metal_init: skipping kernel_flash_attn_ext_f16_h80            (not supported)\n",
            "ggml_metal_init: skipping kernel_flash_attn_ext_f16_h96            (not supported)\n",
            "ggml_metal_init: skipping kernel_flash_attn_ext_f16_h112           (not supported)\n",
            "ggml_metal_init: skipping kernel_flash_attn_ext_f16_h128           (not supported)\n",
            "ggml_metal_init: skipping kernel_flash_attn_ext_f16_h192           (not supported)\n",
            "ggml_metal_init: skipping kernel_flash_attn_ext_f16_hk192_hv128    (not supported)\n",
            "ggml_metal_init: skipping kernel_flash_attn_ext_f16_h256           (not supported)\n",
            "ggml_metal_init: skipping kernel_flash_attn_ext_f16_hk576_hv512    (not supported)\n",
            "ggml_metal_init: skipping kernel_flash_attn_ext_bf16_h64           (not supported)\n",
            "ggml_metal_init: skipping kernel_flash_attn_ext_bf16_h80           (not supported)\n",
            "ggml_metal_init: skipping kernel_flash_attn_ext_bf16_h96           (not supported)\n",
            "ggml_metal_init: skipping kernel_flash_attn_ext_bf16_h112          (not supported)\n",
            "ggml_metal_init: skipping kernel_flash_attn_ext_f16_h64            (not supported)\n",
            "ggml_metal_init: skipping kernel_flash_attn_ext_f16_h80            (not supported)\n",
            "ggml_metal_init: skipping kernel_flash_attn_ext_f16_h96            (not supported)\n",
            "ggml_metal_init: skipping kernel_flash_attn_ext_f16_h112           (not supported)\n",
            "ggml_metal_init: skipping kernel_flash_attn_ext_f16_h128           (not supported)\n",
            "ggml_metal_init: skipping kernel_flash_attn_ext_f16_h192           (not supported)\n",
            "ggml_metal_init: skipping kernel_flash_attn_ext_f16_hk192_hv128    (not supported)\n",
            "ggml_metal_init: skipping kernel_flash_attn_ext_f16_h256           (not supported)\n",
            "ggml_metal_init: skipping kernel_flash_attn_ext_f16_hk576_hv512    (not supported)\n",
            "ggml_metal_init: skipping kernel_flash_attn_ext_bf16_h64           (not supported)\n",
            "ggml_metal_init: skipping kernel_flash_attn_ext_bf16_h80           (not supported)\n",
            "ggml_metal_init: skipping kernel_flash_attn_ext_bf16_h96           (not supported)\n",
            "ggml_metal_init: skipping kernel_flash_attn_ext_bf16_h112          (not supported)\n",
            "ggml_metal_init: skipping kernel_flash_attn_ext_bf16_h128          (not supported)\n",
            "ggml_metal_init: skipping kernel_flash_attn_ext_bf16_h192          (not supported)\n",
            "ggml_metal_init: skipping kernel_flash_attn_ext_bf16_hk192_hv128   (not supported)\n",
            "ggml_metal_init: skipping kernel_flash_attn_ext_bf16_h256          (not supported)\n",
            "ggml_metal_init: skipping kernel_flash_attn_ext_bf16_hk576_hv512   (not supported)\n",
            "ggml_metal_init: skipping kernel_flash_attn_ext_q4_0_h64           (not supported)\n",
            "ggml_metal_init: skipping kernel_flash_attn_ext_q4_0_h80           (not supported)\n",
            "ggml_metal_init: skipping kernel_flash_attn_ext_q4_0_h96           (not supported)\n",
            "ggml_metal_init: skipping kernel_flash_attn_ext_q4_0_h112          (not supported)\n",
            "ggml_metal_init: skipping kernel_flash_attn_ext_q4_0_h128          (not supported)\n",
            "ggml_metal_init: skipping kernel_flash_attn_ext_q4_0_h192          (not supported)\n",
            "ggml_metal_init: skipping kernel_flash_attn_ext_q4_0_hk192_hv128   (not supported)\n",
            "ggml_metal_init: skipping kernel_flash_attn_ext_q4_0_h256          (not supported)\n",
            "ggml_metal_init: skipping kernel_flash_attn_ext_q4_0_hk576_hv512   (not supported)\n",
            "ggml_metal_init: skipping kernel_flash_attn_ext_q4_1_h64           (not supported)\n",
            "ggml_metal_init: skipping kernel_flash_attn_ext_q4_1_h80           (not supported)\n",
            "ggml_metal_init: skipping kernel_flash_attn_ext_q4_1_h96           (not supported)\n",
            "ggml_metal_init: skipping kernel_flash_attn_ext_q4_1_h112          (not supported)\n",
            "ggml_metal_init: skipping kernel_flash_attn_ext_bf16_h128          (not supported)\n",
            "ggml_metal_init: skipping kernel_flash_attn_ext_bf16_h192          (not supported)\n",
            "ggml_metal_init: skipping kernel_flash_attn_ext_bf16_hk192_hv128   (not supported)\n",
            "ggml_metal_init: skipping kernel_flash_attn_ext_bf16_h256          (not supported)\n",
            "ggml_metal_init: skipping kernel_flash_attn_ext_bf16_hk576_hv512   (not supported)\n",
            "ggml_metal_init: skipping kernel_flash_attn_ext_q4_0_h64           (not supported)\n",
            "ggml_metal_init: skipping kernel_flash_attn_ext_q4_0_h80           (not supported)\n",
            "ggml_metal_init: skipping kernel_flash_attn_ext_q4_0_h96           (not supported)\n",
            "ggml_metal_init: skipping kernel_flash_attn_ext_q4_0_h112          (not supported)\n",
            "ggml_metal_init: skipping kernel_flash_attn_ext_q4_0_h128          (not supported)\n",
            "ggml_metal_init: skipping kernel_flash_attn_ext_q4_0_h192          (not supported)\n",
            "ggml_metal_init: skipping kernel_flash_attn_ext_q4_0_hk192_hv128   (not supported)\n",
            "ggml_metal_init: skipping kernel_flash_attn_ext_q4_0_h256          (not supported)\n",
            "ggml_metal_init: skipping kernel_flash_attn_ext_q4_0_hk576_hv512   (not supported)\n",
            "ggml_metal_init: skipping kernel_flash_attn_ext_q4_1_h64           (not supported)\n",
            "ggml_metal_init: skipping kernel_flash_attn_ext_q4_1_h80           (not supported)\n",
            "ggml_metal_init: skipping kernel_flash_attn_ext_q4_1_h96           (not supported)\n",
            "ggml_metal_init: skipping kernel_flash_attn_ext_q4_1_h112          (not supported)\n",
            "ggml_metal_init: skipping kernel_flash_attn_ext_q4_1_h128          (not supported)\n",
            "ggml_metal_init: skipping kernel_flash_attn_ext_q4_1_h192          (not supported)\n",
            "ggml_metal_init: skipping kernel_flash_attn_ext_q4_1_hk192_hv128   (not supported)\n",
            "ggml_metal_init: skipping kernel_flash_attn_ext_q4_1_h256          (not supported)\n",
            "ggml_metal_init: skipping kernel_flash_attn_ext_q4_1_hk576_hv512   (not supported)\n",
            "ggml_metal_init: skipping kernel_flash_attn_ext_q5_0_h64           (not supported)\n",
            "ggml_metal_init: skipping kernel_flash_attn_ext_q5_0_h80           (not supported)\n",
            "ggml_metal_init: skipping kernel_flash_attn_ext_q5_0_h96           (not supported)\n",
            "ggml_metal_init: skipping kernel_flash_attn_ext_q5_0_h112          (not supported)\n",
            "ggml_metal_init: skipping kernel_flash_attn_ext_q5_0_h128          (not supported)\n",
            "ggml_metal_init: skipping kernel_flash_attn_ext_q5_0_h192          (not supported)\n",
            "ggml_metal_init: skipping kernel_flash_attn_ext_q5_0_hk192_hv128   (not supported)\n",
            "ggml_metal_init: skipping kernel_flash_attn_ext_q5_0_h256          (not supported)\n",
            "ggml_metal_init: skipping kernel_flash_attn_ext_q5_0_hk576_hv512   (not supported)\n",
            "ggml_metal_init: skipping kernel_flash_attn_ext_q4_1_h128          (not supported)\n",
            "ggml_metal_init: skipping kernel_flash_attn_ext_q4_1_h192          (not supported)\n",
            "ggml_metal_init: skipping kernel_flash_attn_ext_q4_1_hk192_hv128   (not supported)\n",
            "ggml_metal_init: skipping kernel_flash_attn_ext_q4_1_h256          (not supported)\n",
            "ggml_metal_init: skipping kernel_flash_attn_ext_q4_1_hk576_hv512   (not supported)\n",
            "ggml_metal_init: skipping kernel_flash_attn_ext_q5_0_h64           (not supported)\n",
            "ggml_metal_init: skipping kernel_flash_attn_ext_q5_0_h80           (not supported)\n",
            "ggml_metal_init: skipping kernel_flash_attn_ext_q5_0_h96           (not supported)\n",
            "ggml_metal_init: skipping kernel_flash_attn_ext_q5_0_h112          (not supported)\n",
            "ggml_metal_init: skipping kernel_flash_attn_ext_q5_0_h128          (not supported)\n",
            "ggml_metal_init: skipping kernel_flash_attn_ext_q5_0_h192          (not supported)\n",
            "ggml_metal_init: skipping kernel_flash_attn_ext_q5_0_hk192_hv128   (not supported)\n",
            "ggml_metal_init: skipping kernel_flash_attn_ext_q5_0_h256          (not supported)\n",
            "ggml_metal_init: skipping kernel_flash_attn_ext_q5_0_hk576_hv512   (not supported)\n",
            "ggml_metal_init: skipping kernel_flash_attn_ext_q5_1_h64           (not supported)\n",
            "ggml_metal_init: skipping kernel_flash_attn_ext_q5_1_h80           (not supported)\n",
            "ggml_metal_init: skipping kernel_flash_attn_ext_q5_1_h96           (not supported)\n",
            "ggml_metal_init: skipping kernel_flash_attn_ext_q5_1_h112          (not supported)\n",
            "ggml_metal_init: skipping kernel_flash_attn_ext_q5_1_h128          (not supported)\n",
            "ggml_metal_init: skipping kernel_flash_attn_ext_q5_1_h192          (not supported)\n",
            "ggml_metal_init: skipping kernel_flash_attn_ext_q5_1_hk192_hv128   (not supported)\n",
            "ggml_metal_init: skipping kernel_flash_attn_ext_q5_1_h256          (not supported)\n",
            "ggml_metal_init: skipping kernel_flash_attn_ext_q5_1_hk576_hv512   (not supported)\n",
            "ggml_metal_init: skipping kernel_flash_attn_ext_q8_0_h64           (not supported)\n",
            "ggml_metal_init: skipping kernel_flash_attn_ext_q8_0_h80           (not supported)\n",
            "ggml_metal_init: skipping kernel_flash_attn_ext_q8_0_h96           (not supported)\n",
            "ggml_metal_init: skipping kernel_flash_attn_ext_q8_0_h112          (not supported)\n",
            "ggml_metal_init: skipping kernel_flash_attn_ext_q5_1_h64           (not supported)\n",
            "ggml_metal_init: skipping kernel_flash_attn_ext_q5_1_h80           (not supported)\n",
            "ggml_metal_init: skipping kernel_flash_attn_ext_q5_1_h96           (not supported)\n",
            "ggml_metal_init: skipping kernel_flash_attn_ext_q5_1_h112          (not supported)\n",
            "ggml_metal_init: skipping kernel_flash_attn_ext_q5_1_h128          (not supported)\n",
            "ggml_metal_init: skipping kernel_flash_attn_ext_q5_1_h192          (not supported)\n",
            "ggml_metal_init: skipping kernel_flash_attn_ext_q5_1_hk192_hv128   (not supported)\n",
            "ggml_metal_init: skipping kernel_flash_attn_ext_q5_1_h256          (not supported)\n",
            "ggml_metal_init: skipping kernel_flash_attn_ext_q5_1_hk576_hv512   (not supported)\n",
            "ggml_metal_init: skipping kernel_flash_attn_ext_q8_0_h64           (not supported)\n",
            "ggml_metal_init: skipping kernel_flash_attn_ext_q8_0_h80           (not supported)\n",
            "ggml_metal_init: skipping kernel_flash_attn_ext_q8_0_h96           (not supported)\n",
            "ggml_metal_init: skipping kernel_flash_attn_ext_q8_0_h112          (not supported)\n",
            "ggml_metal_init: skipping kernel_flash_attn_ext_q8_0_h128          (not supported)\n",
            "ggml_metal_init: skipping kernel_flash_attn_ext_q8_0_h192          (not supported)\n",
            "ggml_metal_init: skipping kernel_flash_attn_ext_q8_0_hk192_hv128   (not supported)\n",
            "ggml_metal_init: skipping kernel_flash_attn_ext_q8_0_h256          (not supported)\n",
            "ggml_metal_init: skipping kernel_flash_attn_ext_q8_0_hk576_hv512   (not supported)\n",
            "ggml_metal_init: skipping kernel_flash_attn_ext_vec_f16_h64        (not supported)\n",
            "ggml_metal_init: skipping kernel_flash_attn_ext_vec_bf16_h64       (not supported)\n",
            "ggml_metal_init: skipping kernel_flash_attn_ext_vec_q4_0_h64       (not supported)\n",
            "ggml_metal_init: skipping kernel_flash_attn_ext_vec_q4_1_h64       (not supported)\n",
            "ggml_metal_init: skipping kernel_flash_attn_ext_vec_q5_0_h64       (not supported)\n",
            "ggml_metal_init: skipping kernel_flash_attn_ext_vec_q5_1_h64       (not supported)\n",
            "ggml_metal_init: skipping kernel_flash_attn_ext_vec_q8_0_h64       (not supported)\n",
            "ggml_metal_init: skipping kernel_flash_attn_ext_vec_f16_h96        (not supported)\n",
            "ggml_metal_init: skipping kernel_flash_attn_ext_q8_0_h128          (not supported)\n",
            "ggml_metal_init: skipping kernel_flash_attn_ext_q8_0_h192          (not supported)\n",
            "ggml_metal_init: skipping kernel_flash_attn_ext_q8_0_hk192_hv128   (not supported)\n",
            "ggml_metal_init: skipping kernel_flash_attn_ext_q8_0_h256          (not supported)\n",
            "ggml_metal_init: skipping kernel_flash_attn_ext_q8_0_hk576_hv512   (not supported)\n",
            "ggml_metal_init: skipping kernel_flash_attn_ext_vec_f16_h64        (not supported)\n",
            "ggml_metal_init: skipping kernel_flash_attn_ext_vec_bf16_h64       (not supported)\n",
            "ggml_metal_init: skipping kernel_flash_attn_ext_vec_q4_0_h64       (not supported)\n",
            "ggml_metal_init: skipping kernel_flash_attn_ext_vec_q4_1_h64       (not supported)\n",
            "ggml_metal_init: skipping kernel_flash_attn_ext_vec_q5_0_h64       (not supported)\n",
            "ggml_metal_init: skipping kernel_flash_attn_ext_vec_q5_1_h64       (not supported)\n",
            "ggml_metal_init: skipping kernel_flash_attn_ext_vec_q8_0_h64       (not supported)\n",
            "ggml_metal_init: skipping kernel_flash_attn_ext_vec_f16_h96        (not supported)\n",
            "ggml_metal_init: skipping kernel_flash_attn_ext_vec_bf16_h96       (not supported)\n",
            "ggml_metal_init: skipping kernel_flash_attn_ext_vec_q4_0_h96       (not supported)\n",
            "ggml_metal_init: skipping kernel_flash_attn_ext_vec_q4_1_h96       (not supported)\n",
            "ggml_metal_init: skipping kernel_flash_attn_ext_vec_q5_0_h96       (not supported)\n",
            "ggml_metal_init: skipping kernel_flash_attn_ext_vec_q5_1_h96       (not supported)\n",
            "ggml_metal_init: skipping kernel_flash_attn_ext_vec_q8_0_h96       (not supported)\n",
            "ggml_metal_init: skipping kernel_flash_attn_ext_vec_f16_h128       (not supported)\n",
            "ggml_metal_init: skipping kernel_flash_attn_ext_vec_bf16_h128      (not supported)\n",
            "ggml_metal_init: skipping kernel_flash_attn_ext_vec_q4_0_h128      (not supported)\n",
            "ggml_metal_init: skipping kernel_flash_attn_ext_vec_q4_1_h128      (not supported)\n",
            "ggml_metal_init: skipping kernel_flash_attn_ext_vec_q5_0_h128      (not supported)\n",
            "ggml_metal_init: skipping kernel_flash_attn_ext_vec_q5_1_h128      (not supported)\n",
            "ggml_metal_init: skipping kernel_flash_attn_ext_vec_q8_0_h128      (not supported)\n",
            "ggml_metal_init: skipping kernel_flash_attn_ext_vec_f16_h192       (not supported)\n",
            "ggml_metal_init: skipping kernel_flash_attn_ext_vec_bf16_h96       (not supported)\n",
            "ggml_metal_init: skipping kernel_flash_attn_ext_vec_q4_0_h96       (not supported)\n",
            "ggml_metal_init: skipping kernel_flash_attn_ext_vec_q4_1_h96       (not supported)\n",
            "ggml_metal_init: skipping kernel_flash_attn_ext_vec_q5_0_h96       (not supported)\n",
            "ggml_metal_init: skipping kernel_flash_attn_ext_vec_q5_1_h96       (not supported)\n",
            "ggml_metal_init: skipping kernel_flash_attn_ext_vec_q8_0_h96       (not supported)\n",
            "ggml_metal_init: skipping kernel_flash_attn_ext_vec_f16_h128       (not supported)\n",
            "ggml_metal_init: skipping kernel_flash_attn_ext_vec_bf16_h128      (not supported)\n",
            "ggml_metal_init: skipping kernel_flash_attn_ext_vec_q4_0_h128      (not supported)\n",
            "ggml_metal_init: skipping kernel_flash_attn_ext_vec_q4_1_h128      (not supported)\n",
            "ggml_metal_init: skipping kernel_flash_attn_ext_vec_q5_0_h128      (not supported)\n",
            "ggml_metal_init: skipping kernel_flash_attn_ext_vec_q5_1_h128      (not supported)\n",
            "ggml_metal_init: skipping kernel_flash_attn_ext_vec_q8_0_h128      (not supported)\n",
            "ggml_metal_init: skipping kernel_flash_attn_ext_vec_f16_h192       (not supported)\n",
            "ggml_metal_init: skipping kernel_flash_attn_ext_vec_bf16_h192      (not supported)\n",
            "ggml_metal_init: skipping kernel_flash_attn_ext_vec_q4_0_h192      (not supported)\n",
            "ggml_metal_init: skipping kernel_flash_attn_ext_vec_q4_1_h192      (not supported)\n",
            "ggml_metal_init: skipping kernel_flash_attn_ext_vec_q5_0_h192      (not supported)\n",
            "ggml_metal_init: skipping kernel_flash_attn_ext_vec_q5_1_h192      (not supported)\n",
            "ggml_metal_init: skipping kernel_flash_attn_ext_vec_q8_0_h192      (not supported)\n",
            "ggml_metal_init: skipping kernel_flash_attn_ext_vec_f16_hk192_hv128 (not supported)\n",
            "ggml_metal_init: skipping kernel_flash_attn_ext_vec_bf16_hk192_hv128 (not supported)\n",
            "ggml_metal_init: skipping kernel_flash_attn_ext_vec_q4_0_hk192_hv128 (not supported)\n",
            "ggml_metal_init: skipping kernel_flash_attn_ext_vec_q4_1_hk192_hv128 (not supported)\n",
            "ggml_metal_init: skipping kernel_flash_attn_ext_vec_q5_0_hk192_hv128 (not supported)\n",
            "ggml_metal_init: skipping kernel_flash_attn_ext_vec_q5_1_hk192_hv128 (not supported)\n",
            "ggml_metal_init: skipping kernel_flash_attn_ext_vec_q8_0_hk192_hv128 (not supported)\n",
            "ggml_metal_init: skipping kernel_flash_attn_ext_vec_f16_h256       (not supported)\n",
            "ggml_metal_init: skipping kernel_flash_attn_ext_vec_bf16_h256      (not supported)\n",
            "ggml_metal_init: skipping kernel_flash_attn_ext_vec_bf16_h192      (not supported)\n",
            "ggml_metal_init: skipping kernel_flash_attn_ext_vec_q4_0_h192      (not supported)\n",
            "ggml_metal_init: skipping kernel_flash_attn_ext_vec_q4_1_h192      (not supported)\n",
            "ggml_metal_init: skipping kernel_flash_attn_ext_vec_q5_0_h192      (not supported)\n",
            "ggml_metal_init: skipping kernel_flash_attn_ext_vec_q5_1_h192      (not supported)\n",
            "ggml_metal_init: skipping kernel_flash_attn_ext_vec_q8_0_h192      (not supported)\n",
            "ggml_metal_init: skipping kernel_flash_attn_ext_vec_f16_hk192_hv128 (not supported)\n",
            "ggml_metal_init: skipping kernel_flash_attn_ext_vec_bf16_hk192_hv128 (not supported)\n",
            "ggml_metal_init: skipping kernel_flash_attn_ext_vec_q4_0_hk192_hv128 (not supported)\n",
            "ggml_metal_init: skipping kernel_flash_attn_ext_vec_q4_1_hk192_hv128 (not supported)\n",
            "ggml_metal_init: skipping kernel_flash_attn_ext_vec_q5_0_hk192_hv128 (not supported)\n",
            "ggml_metal_init: skipping kernel_flash_attn_ext_vec_q5_1_hk192_hv128 (not supported)\n",
            "ggml_metal_init: skipping kernel_flash_attn_ext_vec_q8_0_hk192_hv128 (not supported)\n",
            "ggml_metal_init: skipping kernel_flash_attn_ext_vec_f16_h256       (not supported)\n",
            "ggml_metal_init: skipping kernel_flash_attn_ext_vec_bf16_h256      (not supported)\n",
            "ggml_metal_init: skipping kernel_flash_attn_ext_vec_q4_0_h256      (not supported)\n",
            "ggml_metal_init: skipping kernel_flash_attn_ext_vec_q4_1_h256      (not supported)\n",
            "ggml_metal_init: skipping kernel_flash_attn_ext_vec_q4_0_h256      (not supported)\n",
            "ggml_metal_init: skipping kernel_flash_attn_ext_vec_q4_1_h256      (not supported)\n",
            "ggml_metal_init: skipping kernel_flash_attn_ext_vec_q5_0_h256      (not supported)\n",
            "ggml_metal_init: skipping kernel_flash_attn_ext_vec_q5_1_h256      (not supported)\n",
            "ggml_metal_init: skipping kernel_flash_attn_ext_vec_q8_0_h256      (not supported)\n",
            "ggml_metal_init: skipping kernel_flash_attn_ext_vec_f16_hk576_hv512 (not supported)\n",
            "ggml_metal_init: skipping kernel_flash_attn_ext_vec_bf16_hk576_hv512 (not supported)\n",
            "ggml_metal_init: skipping kernel_flash_attn_ext_vec_q4_0_hk576_hv512 (not supported)\n",
            "ggml_metal_init: skipping kernel_flash_attn_ext_vec_q4_1_hk576_hv512 (not supported)\n",
            "ggml_metal_init: skipping kernel_flash_attn_ext_vec_q5_0_hk576_hv512 (not supported)\n",
            "ggml_metal_init: skipping kernel_flash_attn_ext_vec_q5_0_h256      (not supported)\n",
            "ggml_metal_init: skipping kernel_flash_attn_ext_vec_q5_1_h256      (not supported)\n",
            "ggml_metal_init: skipping kernel_flash_attn_ext_vec_q8_0_h256      (not supported)\n",
            "ggml_metal_init: skipping kernel_flash_attn_ext_vec_f16_hk576_hv512 (not supported)\n",
            "ggml_metal_init: skipping kernel_flash_attn_ext_vec_bf16_hk576_hv512 (not supported)\n",
            "ggml_metal_init: skipping kernel_flash_attn_ext_vec_q4_0_hk576_hv512 (not supported)\n",
            "ggml_metal_init: skipping kernel_flash_attn_ext_vec_q4_1_hk576_hv512 (not supported)\n",
            "ggml_metal_init: skipping kernel_flash_attn_ext_vec_q5_0_hk576_hv512 (not supported)\n",
            "ggml_metal_init: skipping kernel_flash_attn_ext_vec_q5_1_hk576_hv512 (not supported)\n",
            "ggml_metal_init: skipping kernel_flash_attn_ext_vec_q8_0_hk576_hv512 (not supported)\n",
            "ggml_metal_init: skipping kernel_flash_attn_ext_vec_q5_1_hk576_hv512 (not supported)\n",
            "ggml_metal_init: skipping kernel_flash_attn_ext_vec_q8_0_hk576_hv512 (not supported)\n",
            "ggml_metal_init: skipping kernel_cpy_f32_bf16                      (not supported)\n",
            "ggml_metal_init: skipping kernel_cpy_f32_bf16                      (not supported)\n",
            "ggml_metal_init: skipping kernel_cpy_bf16_f32                      (not supported)\n",
            "ggml_metal_init: skipping kernel_cpy_bf16_bf16                     (not supported)\n",
            "ggml_metal_init: skipping kernel_cpy_bf16_f32                      (not supported)\n",
            "ggml_metal_init: skipping kernel_cpy_bf16_bf16                     (not supported)\n"
          ]
        },
        {
          "name": "stdout",
          "output_type": "stream",
          "text": [
            "✅ Model loaded successfully!\n",
            "🎯 Ready for inference!\n",
            "\n",
            "🧪 Testing model with a simple medical query...\n",
            "Test Response:\n",
            "--------------------------------------------------\n",
            "\n",
            "\n",
            "Hypertension, also known as high blood pressure, is a condition where the force of blood pushing against the walls of the arteries is consistently too high. The American Heart Association defines hypertension as a systolic blood pressure of 140 mm Hg or higher and/or a diastolic blood pressure of 90 mm Hg or higher.\n",
            "\n",
            "What causes hypertension?\n",
            "\n",
            "The exact cause of hypertension is not known in most\n",
            "--------------------------------------------------\n",
            "\n",
            "📊 Model Information:\n",
            "   • Model: Mistral-7B-Instruct-v0.2\n",
            "   • Quantization: Q4_K_M (4-bit)\n",
            "   • Context Length: 2048 tokens\n",
            "   • Optimization: Intel Mac CPU\n",
            "   • Memory Usage: ~4-6GB RAM\n",
            "Test Response:\n",
            "--------------------------------------------------\n",
            "\n",
            "\n",
            "Hypertension, also known as high blood pressure, is a condition where the force of blood pushing against the walls of the arteries is consistently too high. The American Heart Association defines hypertension as a systolic blood pressure of 140 mm Hg or higher and/or a diastolic blood pressure of 90 mm Hg or higher.\n",
            "\n",
            "What causes hypertension?\n",
            "\n",
            "The exact cause of hypertension is not known in most\n",
            "--------------------------------------------------\n",
            "\n",
            "📊 Model Information:\n",
            "   • Model: Mistral-7B-Instruct-v0.2\n",
            "   • Quantization: Q4_K_M (4-bit)\n",
            "   • Context Length: 2048 tokens\n",
            "   • Optimization: Intel Mac CPU\n",
            "   • Memory Usage: ~4-6GB RAM\n"
          ]
        }
      ],
      "source": [
        "# Download and load Mistral-7B model optimized for Intel Mac\n",
        "# This model is quantized for better performance on CPU\n",
        "\n",
        "import os\n",
        "\n",
        "# Model configuration for Intel Mac\n",
        "model_name = \"mistralai/Mistral-7B-Instruct-v0.2\"\n",
        "model_file = \"mistral-7b-instruct-v0.2.Q4_K_M.gguf\"  # 4-bit quantized for Intel Mac\n",
        "\n",
        "print(\"🔄 Downloading Mistral-7B model for Intel Mac...\")\n",
        "print(f\"Model: {model_name}\")\n",
        "print(f\"File: {model_file}\")\n",
        "print(\"⚠️  This may take several minutes (model size: ~4GB)\")\n",
        "\n",
        "try:\n",
        "    # Download the model from Hugging Face Hub\n",
        "    model_path = hf_hub_download(\n",
        "        repo_id=\"TheBloke/Mistral-7B-Instruct-v0.2-GGUF\",\n",
        "        filename=model_file,\n",
        "        cache_dir=\"./models\"  # Download to local models directory\n",
        "    )\n",
        "    \n",
        "    print(f\"✅ Model downloaded successfully!\")\n",
        "    print(f\"📁 Model path: {model_path}\")\n",
        "    \n",
        "    # Load the model with llama-cpp-python optimized for Intel Mac\n",
        "    print(\"🔄 Loading model into memory...\")\n",
        "    \n",
        "    llm = Llama(\n",
        "        model_path=model_path,\n",
        "        n_ctx=2048,      # Context length\n",
        "        n_threads=8,     # Number of CPU threads (adjust based on your Mac)\n",
        "        n_gpu_layers=35,  # 0 for CPU-only on Intel Mac\n",
        "        verbose=False,   # Set to True for debugging\n",
        "        temperature=0.7, # Default temperature\n",
        "        max_tokens=512,  # Default max tokens\n",
        "        seed=42         # For reproducible results\n",
        "    )\n",
        "    \n",
        "    print(\"✅ Model loaded successfully!\")\n",
        "    print(\"🎯 Ready for inference!\")\n",
        "    \n",
        "    # Test the model with a simple query\n",
        "    print(\"\\n🧪 Testing model with a simple medical query...\")\n",
        "    test_response = llm(\n",
        "        \"What is hypertension?\",\n",
        "        max_tokens=100,\n",
        "        temperature=0\n",
        "    )\n",
        "    \n",
        "    print(\"Test Response:\")\n",
        "    print(\"-\" * 50)\n",
        "    print(test_response['choices'][0]['text'])\n",
        "    print(\"-\" * 50)\n",
        "    \n",
        "except Exception as e:\n",
        "    print(f\"❌ Error loading model: {e}\")\n",
        "    print(\"💡 Make sure you have sufficient RAM (8GB+ recommended)\")\n",
        "    print(\"💡 Check your internet connection for downloading\")\n",
        "    \n",
        "# Display model information\n",
        "if 'llm' in locals():\n",
        "    print(f\"\\n📊 Model Information:\")\n",
        "    print(f\"   • Model: Mistral-7B-Instruct-v0.2\")\n",
        "    print(f\"   • Quantization: Q4_K_M (4-bit)\")\n",
        "    print(f\"   • Context Length: 2048 tokens\")\n",
        "    print(f\"   • Optimization: Intel Mac CPU\")\n",
        "    print(f\"   • Memory Usage: ~4-6GB RAM\")"
      ]
    },
    {
      "cell_type": "markdown",
      "metadata": {
        "id": "EzzkvIXvFTS4"
      },
      "source": [
        "#### Response"
      ]
    },
    {
      "cell_type": "code",
      "execution_count": 8,
      "metadata": {
        "id": "hG_IaZj0QLw4"
      },
      "outputs": [],
      "source": [
        "import IPython.display as display\n",
        "\n",
        "def response(query,max_tokens=128,temperature=0,top_p=0.95,top_k=50):\n",
        "    model_output = llm(\n",
        "      prompt=query,\n",
        "      max_tokens=max_tokens,\n",
        "      temperature=temperature,\n",
        "      top_p=top_p,\n",
        "      top_k=top_k\n",
        "    )\n",
        "\n",
        "    return display.Markdown(model_output['choices'][0]['text'])"
      ]
    },
    {
      "cell_type": "markdown",
      "metadata": {
        "id": "K8YgK91SFjVY"
      },
      "source": [
        "### Query 1: What is the protocol for managing sepsis in a critical care unit?"
      ]
    },
    {
      "cell_type": "code",
      "execution_count": 9,
      "metadata": {
        "id": "-JLIVmpPQH0f"
      },
      "outputs": [
        {
          "data": {
            "text/markdown": [
              "\n",
              "\n",
              "Sepsis is a life-threatening condition that can arise from an infection, and prompt recognition and appropriate management are crucial for improving outcomes. In a critical care unit, the following steps should be taken for managing sepsis:\n",
              "\n",
              "1. Early recognition: Identify sepsis early by recognizing the signs and symptoms, such as fever, chills, tachycardia, tachypnea, altered mental status, and lactic acidosis. Use the Sequential Organ Failure Assessment (SOFA) score or the Quick Sequential Organ Failure Assessment (qSOFA"
            ],
            "text/plain": [
              "<IPython.core.display.Markdown object>"
            ]
          },
          "execution_count": 9,
          "metadata": {},
          "output_type": "execute_result"
        }
      ],
      "source": [
        "#Query1 output response\n",
        "sepsis_query1 = \"What is the protocol for managing sepsis in a critical care unit?\"\n",
        "response(sepsis_query1)"
      ]
    },
    {
      "cell_type": "markdown",
      "metadata": {
        "id": "J6yxICeVFjVc"
      },
      "source": [
        "### Query 2: What are the common symptoms for appendicitis, and can it be cured via medicine? If not, what surgical procedure should be followed to treat it?"
      ]
    },
    {
      "cell_type": "code",
      "execution_count": 10,
      "metadata": {
        "id": "BdiHRgEqQIP9"
      },
      "outputs": [
        {
          "data": {
            "text/markdown": [
              "\n",
              "\n",
              "Appendicitis is a medical condition characterized by inflammation of the appendix, a small tube-shaped organ located in the lower right side of the abdomen. The symptoms of appendicitis can vary from person to person, but some of the most common ones include:\n",
              "\n",
              "1. Abdominal pain: The pain is typically located in the lower right side of the abdomen and may start as a mild discomfort that gradually worsens over time. The pain may be constant or come and go, and it may be accompanied by cramping or bloating.\n",
              "2. Loss of appetite"
            ],
            "text/plain": [
              "<IPython.core.display.Markdown object>"
            ]
          },
          "execution_count": 10,
          "metadata": {},
          "output_type": "execute_result"
        }
      ],
      "source": [
        "# Query2 output response\n",
        "query2 = \"What are the common symptoms for appendicitis, and can it be cured via medicine? If not, what surgical procedure should be followed to. treat it?\"\n",
        "response(query2)"
      ]
    },
    {
      "cell_type": "markdown",
      "metadata": {
        "id": "oflaoOGiFjVd"
      },
      "source": [
        "### Query 3: What are the effective treatments or solutions for addressing sudden patchy hair loss, commonly seen as localized bald spots on the scalp, and what could be the possible causes behind it?"
      ]
    },
    {
      "cell_type": "code",
      "execution_count": 11,
      "metadata": {
        "id": "N-mx9yboQIt-"
      },
      "outputs": [
        {
          "data": {
            "text/markdown": [
              "\n",
              "\n",
              "Sudden patchy hair loss, also known as alopecia areata, is a common autoimmune disorder that affects the hair follicles, leading to hair loss in small, round patches on the scalp, beard, or other areas of the body. The exact cause of alopecia areata is not known, but it is believed to be related to a dysfunction of the immune system.\n",
              "\n",
              "There are several treatments that have been shown to be effective in addressing sudden patchy hair loss:\n",
              "\n",
              "1. Corticosteroids: Corticosteroids are anti-inflammat"
            ],
            "text/plain": [
              "<IPython.core.display.Markdown object>"
            ]
          },
          "execution_count": 11,
          "metadata": {},
          "output_type": "execute_result"
        }
      ],
      "source": [
        "# Query3 output response\n",
        "query3 = \"What are the effective treatments or solutions for addressing sudden patchy hair loss, commonly seen as localized bald spots on the scalp, and what could be the possible causes behind it?\"\n",
        "response(query3)"
      ]
    },
    {
      "cell_type": "markdown",
      "metadata": {
        "id": "WUUqY4FbFjVe"
      },
      "source": [
        "### Query 4:  What treatments are recommended for a person who has sustained a physical injury to brain tissue, resulting in temporary or permanent impairment of brain function?"
      ]
    },
    {
      "cell_type": "code",
      "execution_count": 12,
      "metadata": {
        "id": "TEsVMaKaQJzh"
      },
      "outputs": [
        {
          "data": {
            "text/markdown": [
              "\n",
              "\n",
              "A person who has sustained a physical injury to brain tissue, resulting in temporary or permanent impairment of brain function, is typically diagnosed with a traumatic brain injury (TBI). The treatment for a TBI depends on the severity and location of the injury. Here are some common treatments recommended for individuals with a TBI:\n",
              "\n",
              "1. Emergency care: If the injury is severe, the person may require emergency care, including surgery to remove hematomas or decompressing a skull fracture.\n",
              "2. Medications: Depending on the symptoms, the doctor may prescribe medications to manage seiz"
            ],
            "text/plain": [
              "<IPython.core.display.Markdown object>"
            ]
          },
          "execution_count": 12,
          "metadata": {},
          "output_type": "execute_result"
        }
      ],
      "source": [
        "query4 = \"What treatments are recommended for a person who has sustained a physical injury to brain tissue, resulting in temporary or permanent impairment of brain function?\"\n",
        "response(query4)"
      ]
    },
    {
      "cell_type": "markdown",
      "metadata": {
        "id": "5laPFTHrFjVf"
      },
      "source": [
        "### Query 5: What are the necessary precautions and treatment steps for a person who has fractured their leg during a hiking trip, and what should be considered for their care and recovery?"
      ]
    },
    {
      "cell_type": "code",
      "execution_count": 13,
      "metadata": {
        "id": "VfrlmrP5QKJz"
      },
      "outputs": [
        {
          "data": {
            "text/markdown": [
              "\n",
              "\n",
              "First and foremost, it is essential to ensure the safety and stability of the injured person. If the fracture is open or compound, meaning the bone has pierced the skin, do not attempt to move the person without proper medical assistance. In this case, call for emergency medical services and follow their instructions.\n",
              "\n",
              "If the fracture is closed, meaning the bone has not pierced the skin, the following steps can be taken:\n",
              "\n",
              "1. Assess the situation: Check the person's vital signs, such as pulse, breathing rate, and level of consciousness. If there are any signs of shock,"
            ],
            "text/plain": [
              "<IPython.core.display.Markdown object>"
            ]
          },
          "execution_count": 13,
          "metadata": {},
          "output_type": "execute_result"
        }
      ],
      "source": [
        "query5 = \"What are the necessary precautions and treatment steps for a person who has fractured their leg during a hiking trip, and what should be considered for their care and recovery?\"\n",
        "response(query5)"
      ]
    },
    {
      "cell_type": "markdown",
      "metadata": {
        "id": "g5myZ5dOOefc"
      },
      "source": [
        "## Question Answering using LLM with Prompt Engineering"
      ]
    },
    {
      "cell_type": "markdown",
      "metadata": {
        "id": "9Jg3r_LWOeff"
      },
      "source": [
        "### Query 1: What is the protocol for managing sepsis in a critical care unit?"
      ]
    },
    {
      "cell_type": "code",
      "execution_count": 18,
      "metadata": {
        "id": "YqM4VMw5ROhX"
      },
      "outputs": [
        {
          "data": {
            "text/markdown": [
              "\n",
              "1. Early recognition and prompt assessment: Recognize sepsis early and initiate assessment as soon as possible. Use the Sequential [Sepsis-related] Organ Failure Assessment (SOFA) score to evaluate organ dysfunction.\n",
              "2. Fluid resuscitation: Administer intravenous fluids to maintain adequate tissue perfusion. Use crystalloids initially, and consider colloids or blood products if fluid resuscitation is insufficient.\n",
              "3. Antibiotics: Administer broad-spectrum antibiotics as soon as possible, based on suspected infection site and microbi"
            ],
            "text/plain": [
              "<IPython.core.display.Markdown object>"
            ]
          },
          "execution_count": 18,
          "metadata": {},
          "output_type": "execute_result"
        }
      ],
      "source": [
        "prompt = \"Step-by-Step approach or treatement guidelines\" \n",
        "input = prompt + \"\\n\" + \"What is the protocol for managing sepsis in a critical care unit?\";\n",
        "response(input)"
      ]
    },
    {
      "cell_type": "markdown",
      "metadata": {
        "id": "iYpyw4HjOeff"
      },
      "source": [
        "### Query 2: What are the common symptoms for appendicitis, and can it be cured via medicine? If not, what surgical procedure should be followed to treat it?"
      ]
    },
    {
      "cell_type": "code",
      "execution_count": 19,
      "metadata": {
        "id": "GXl09pFfRPBr"
      },
      "outputs": [
        {
          "data": {
            "text/markdown": [
              "\n",
              "\n",
              "Appendicitis is a medical condition characterized by inflammation of the appendix, a small tube-shaped organ located in the lower right side of the abdomen. The common symptoms of appendicitis include:\n",
              "\n",
              "1. Sudden onset of pain in the lower right abdomen, which may be mild at first but eventually becomes severe and constant.\n",
              "2. Loss of appetite and feeling sick to your stomach.\n",
              "3. Nausea and vomiting.\n",
              "4. Fever, often over 100.4°F (38°C).\n",
              "5. Diarrhe"
            ],
            "text/plain": [
              "<IPython.core.display.Markdown object>"
            ]
          },
          "execution_count": 19,
          "metadata": {},
          "output_type": "execute_result"
        }
      ],
      "source": [
        "appendicitis_prompt = \"Answer about appendicitis in a structured format including symptoms, medical treatments, and how to explain to patient.\"\n",
        "appendicitis_input = appendicitis_prompt + \"\\n\" + \"What are the common symptoms for appendicitis, and can it be cured via medicine? If not, what surgical procedure should be followed to treat it?\"\n",
        "response(appendicitis_input)"
      ]
    },
    {
      "cell_type": "markdown",
      "metadata": {
        "id": "dRp92JQZOeff"
      },
      "source": [
        "### Query 3: What are the effective treatments or solutions for addressing sudden patchy hair loss, commonly seen as localized bald spots on the scalp, and what could be the possible causes behind it?"
      ]
    },
    {
      "cell_type": "code",
      "execution_count": 20,
      "metadata": {
        "id": "JOgATEpMRPve"
      },
      "outputs": [
        {
          "data": {
            "text/markdown": [
              " A dermatologist is a medical doctor who specializes in the diagnosis and treatment of skin, hair, and nail conditions. When it comes to hair loss, a ddermatologist is an excellent specialist to consult.\n",
              "Common causes of hair loss include:\n",
              "1. Androgenetic alopecia (male or female pattern baldness)\n",
              "2. Telogen effluvium (stress-related hair loss)\n",
              "3. Alopecia areata (autoimmune hair loss)\n",
              "4. Thyroid disorders\n",
              "5. Nutritional deficiencies\n",
              "6. Medications (che"
            ],
            "text/plain": [
              "<IPython.core.display.Markdown object>"
            ]
          },
          "execution_count": 20,
          "metadata": {},
          "output_type": "execute_result"
        }
      ],
      "source": [
        "hair_loss_prompt = \"Answer about a dermatologist taking care of a patient with hair loss.\"\n",
        "hair_loss_input = hair_loss_prompt + \"\\n\" + \"What are the common causes of hair loss, and what treatment options are available?\"\n",
        "response(hair_loss_input)"
      ]
    },
    {
      "cell_type": "markdown",
      "metadata": {
        "id": "AA45zwyUOefg"
      },
      "source": [
        "### Query 4:  What treatments are recommended for a person who has sustained a physical injury to brain tissue, resulting in temporary or permanent impairment of brain function?"
      ]
    },
    {
      "cell_type": "code",
      "execution_count": 24,
      "metadata": {
        "id": "VA7G8FOnRQZY"
      },
      "outputs": [
        {
          "data": {
            "text/markdown": [
              " This condition is known as a Traumatic Brain Inction (TBI).\n",
              "\n",
              "Causes:\n",
              "1. Motor vehicle accidents\n",
              "2. Falls\n",
              "3. Sports injuries\n",
              "4. Violence (assaults or gunshot wounds)\n",
              "5. Explosions\n",
              "\n",
              "Symptoms:\n",
              "1. Headache or a feeling of pressure in the head\n",
              "2. Temporary loss of consciousness\n",
              "3. Confusion or disorientation\n",
              "4. Amnesia surrounding the traumatic event\n",
              "5. Dizziness or loss of balance\n",
              "6. Nausea or vomiting\n",
              "7. Sl"
            ],
            "text/plain": [
              "<IPython.core.display.Markdown object>"
            ]
          },
          "execution_count": 24,
          "metadata": {},
          "output_type": "execute_result"
        }
      ],
      "source": [
        "brain_injury_prompt = \"Answer about Traumatic Brain Injury (TBI) in a structured format including causes, symptoms, and treatment protocols. List the common symptoms of TBI\"\n",
        "brain_injury_input = brain_injury_prompt + \"\\n\" + \"What treatments are recommended for a person who has sustained a physical injury to brain tissue, resulting in temporary or permanent impairment of brain function?\"\n",
        "response(brain_injury_input)"
      ]
    },
    {
      "cell_type": "markdown",
      "metadata": {
        "id": "TYXxiSuBOefg"
      },
      "source": [
        "### Query 5: What are the necessary precautions and treatment steps for a person who has fractured their leg during a hiking trip, and what should be considered for their care and recovery?"
      ]
    },
    {
      "cell_type": "code",
      "execution_count": 25,
      "metadata": {
        "id": "mE2GMQk8RQ_p"
      },
      "outputs": [
        {
          "data": {
            "text/markdown": [
              "\n",
              "\n",
              "First and foremost, the safety and well-being of the injured person should be prioritized. If the fracture is obvious and the person is in significant pain, immobilization of the leg should be achieved as soon as possible to prevent further injury or complications. This can be done by using a splint, a makeshift sling, or a hiking pole to keep the leg stable.\n",
              "\n",
              "If the fracture is severe or if the person's condition is deteriorating, it may be necessary to call for emergency medical assistance. In the meantime, efforts should be made to keep the"
            ],
            "text/plain": [
              "<IPython.core.display.Markdown object>"
            ]
          },
          "execution_count": 25,
          "metadata": {},
          "output_type": "execute_result"
        }
      ],
      "source": [
        "factured_leg_prompt = \"Answer about a person who has fractured their leg during a hiking trip, and what should be considered for their care and recovery.\"\n",
        "factured_leg_input = factured_leg_prompt + \"\\n\" + \"What are the necessary precautions and treatment steps for a person who has fractured their leg during a hiking trip, and what should be considered for their care and recovery?\"\n",
        "response(factured_leg_input)"
      ]
    },
    {
      "cell_type": "markdown",
      "metadata": {
        "id": "t_O1PGdNO2M9"
      },
      "source": [
        "## Data Preparation for RAG"
      ]
    },
    {
      "cell_type": "markdown",
      "metadata": {
        "id": "uTpWESc53dL9"
      },
      "source": [
        "### Loading the Data"
      ]
    },
    {
      "cell_type": "code",
      "execution_count": null,
      "metadata": {
        "id": "ybj2cEnzRSXq"
      },
      "outputs": [],
      "source": []
    },
    {
      "cell_type": "markdown",
      "metadata": {
        "id": "ffj0ca3eZT4u"
      },
      "source": [
        "### Data Overview"
      ]
    },
    {
      "cell_type": "markdown",
      "metadata": {
        "id": "f9weTDzMxRRS"
      },
      "source": [
        "#### Checking the first 5 pages"
      ]
    },
    {
      "cell_type": "code",
      "execution_count": null,
      "metadata": {
        "id": "MSEiL--bRTZT"
      },
      "outputs": [],
      "source": []
    },
    {
      "cell_type": "markdown",
      "metadata": {
        "id": "7-wNNalNxPKT"
      },
      "source": [
        "#### Checking the number of pages"
      ]
    },
    {
      "cell_type": "code",
      "execution_count": null,
      "metadata": {
        "id": "-NuC-6SNRT7K"
      },
      "outputs": [],
      "source": []
    },
    {
      "cell_type": "markdown",
      "metadata": {
        "id": "LECMxTH-zB-R"
      },
      "source": [
        "### Data Chunking"
      ]
    },
    {
      "cell_type": "code",
      "execution_count": null,
      "metadata": {
        "id": "ir9Zi8rKRUmG"
      },
      "outputs": [],
      "source": []
    },
    {
      "cell_type": "markdown",
      "metadata": {
        "id": "BvHVejcWz0Bl"
      },
      "source": [
        "### Embedding"
      ]
    },
    {
      "cell_type": "code",
      "execution_count": null,
      "metadata": {
        "id": "R3CAgoUeRVLa"
      },
      "outputs": [],
      "source": []
    },
    {
      "cell_type": "markdown",
      "metadata": {
        "id": "qiKCOv4X0d7B"
      },
      "source": [
        "### Vector Database"
      ]
    },
    {
      "cell_type": "code",
      "execution_count": null,
      "metadata": {
        "id": "vHHt1MQQRVzs"
      },
      "outputs": [],
      "source": []
    },
    {
      "cell_type": "markdown",
      "metadata": {
        "id": "uEa5sKc41T1z"
      },
      "source": [
        "### Retriever"
      ]
    },
    {
      "cell_type": "code",
      "execution_count": null,
      "metadata": {
        "id": "wBlQUGx3RWUD"
      },
      "outputs": [],
      "source": []
    },
    {
      "cell_type": "markdown",
      "metadata": {
        "id": "vw8qcwq66B0C",
        "nteract": {
          "transient": {
            "deleting": false
          }
        }
      },
      "source": [
        "### System and User Prompt Template"
      ]
    },
    {
      "cell_type": "code",
      "execution_count": null,
      "metadata": {
        "id": "GF_4399TRW5D"
      },
      "outputs": [],
      "source": []
    },
    {
      "cell_type": "markdown",
      "metadata": {
        "id": "TkIteX4m6mny"
      },
      "source": [
        "### Response Function"
      ]
    },
    {
      "cell_type": "code",
      "execution_count": null,
      "metadata": {
        "id": "5jFvGnOJRXZx"
      },
      "outputs": [],
      "source": [
        "def generate_rag_response(user_input,k=3,max_tokens=128,temperature=0,top_p=0.95,top_k=50):\n",
        "    global qna_system_message,qna_user_message_template\n",
        "    # Retrieve relevant document chunks\n",
        "    relevant_document_chunks = retriever.get_relevant_documents(query=user_input,k=k)\n",
        "    context_list = [d.page_content for d in relevant_document_chunks]\n",
        "\n",
        "    # Combine document chunks into a single context\n",
        "    context_for_query = \". \".join(context_list)\n",
        "\n",
        "    user_message = qna_user_message_template.replace('{context}', context_for_query)\n",
        "    user_message = user_message.replace('{question}', user_input)\n",
        "\n",
        "    prompt = qna_system_message + '\\n' + user_message\n",
        "\n",
        "    # Generate the response\n",
        "    try:\n",
        "        response = llm(\n",
        "                  prompt=prompt,\n",
        "                  max_tokens=max_tokens,\n",
        "                  temperature=temperature,\n",
        "                  top_p=top_p,\n",
        "                  top_k=top_k\n",
        "                  )\n",
        "\n",
        "        # Extract and print the model's response\n",
        "        response = response['choices'][0]['text'].strip()\n",
        "    except Exception as e:\n",
        "        response = f'Sorry, I encountered the following error: \\n {e}'\n",
        "\n",
        "    return response"
      ]
    },
    {
      "cell_type": "markdown",
      "metadata": {
        "id": "ffP1SRYbPQHN"
      },
      "source": [
        "## Question Answering using RAG"
      ]
    },
    {
      "cell_type": "markdown",
      "metadata": {
        "id": "JjajBEj06B0E"
      },
      "source": [
        "### Query 1: What is the protocol for managing sepsis in a critical care unit?"
      ]
    },
    {
      "cell_type": "code",
      "execution_count": null,
      "metadata": {
        "id": "Nlo9sMpPRbTP"
      },
      "outputs": [],
      "source": []
    },
    {
      "cell_type": "markdown",
      "metadata": {
        "id": "QDw8zXuq6B0F"
      },
      "source": [
        "### Query 2: What are the common symptoms for appendicitis, and can it be cured via medicine? If not, what surgical procedure should be followed to treat it?"
      ]
    },
    {
      "cell_type": "code",
      "execution_count": null,
      "metadata": {
        "id": "PVReF4G8RbzR"
      },
      "outputs": [],
      "source": []
    },
    {
      "cell_type": "markdown",
      "metadata": {
        "id": "TggYyQPL6B0G"
      },
      "source": [
        "### Query 3: What are the effective treatments or solutions for addressing sudden patchy hair loss, commonly seen as localized bald spots on the scalp, and what could be the possible causes behind it?"
      ]
    },
    {
      "cell_type": "code",
      "execution_count": null,
      "metadata": {
        "id": "0aRbadGtRcX0"
      },
      "outputs": [],
      "source": []
    },
    {
      "cell_type": "markdown",
      "metadata": {
        "id": "1TgxdI-_6B0G"
      },
      "source": [
        "### Query 4:  What treatments are recommended for a person who has sustained a physical injury to brain tissue, resulting in temporary or permanent impairment of brain function?"
      ]
    },
    {
      "cell_type": "code",
      "execution_count": null,
      "metadata": {
        "id": "0vzRX1TcRc29"
      },
      "outputs": [],
      "source": []
    },
    {
      "cell_type": "markdown",
      "metadata": {
        "id": "FlHXYCkm6B0H"
      },
      "source": [
        "### Query 5: What are the necessary precautions and treatment steps for a person who has fractured their leg during a hiking trip, and what should be considered for their care and recovery?"
      ]
    },
    {
      "cell_type": "code",
      "execution_count": null,
      "metadata": {
        "id": "sarpUibcRdhq"
      },
      "outputs": [],
      "source": []
    },
    {
      "cell_type": "markdown",
      "metadata": {
        "id": "K7TYrqycEITB"
      },
      "source": [
        "### Fine-tuning"
      ]
    },
    {
      "cell_type": "code",
      "execution_count": null,
      "metadata": {
        "id": "7UYBR-hcReSo"
      },
      "outputs": [],
      "source": []
    },
    {
      "cell_type": "markdown",
      "metadata": {
        "id": "yyQrTipNfuBN"
      },
      "source": [
        "## Output Evaluation"
      ]
    },
    {
      "cell_type": "code",
      "execution_count": null,
      "metadata": {
        "id": "IHbfLAxAGdhW"
      },
      "outputs": [],
      "source": [
        "groundedness_rater_system_message  = \"\""
      ]
    },
    {
      "cell_type": "code",
      "execution_count": null,
      "metadata": {
        "id": "159OZZa0Rinv"
      },
      "outputs": [],
      "source": [
        "relevance_rater_system_message = \"\""
      ]
    },
    {
      "cell_type": "code",
      "execution_count": null,
      "metadata": {
        "id": "RLqiSn-iRwSl"
      },
      "outputs": [],
      "source": [
        "user_message_template = \"\""
      ]
    },
    {
      "cell_type": "code",
      "execution_count": null,
      "metadata": {
        "id": "XIbZybyuRi2p"
      },
      "outputs": [],
      "source": [
        "def generate_ground_relevance_response(user_input,k=3,max_tokens=128,temperature=0,top_p=0.95,top_k=50):\n",
        "    global qna_system_message,qna_user_message_template\n",
        "    # Retrieve relevant document chunks\n",
        "    relevant_document_chunks = retriever.get_relevant_documents(query=user_input,k=3)\n",
        "    context_list = [d.page_content for d in relevant_document_chunks]\n",
        "    context_for_query = \". \".join(context_list)\n",
        "\n",
        "    # Combine user_prompt and system_message to create the prompt\n",
        "    prompt = f\"\"\"[INST]{qna_system_message}\\n\n",
        "                {'user'}: {qna_user_message_template.format(context=context_for_query, question=user_input)}\n",
        "                [/INST]\"\"\"\n",
        "\n",
        "    response = llm(\n",
        "            prompt=prompt,\n",
        "            max_tokens=max_tokens,\n",
        "            temperature=temperature,\n",
        "            top_p=top_p,\n",
        "            top_k=top_k,\n",
        "            stop=['INST'],\n",
        "            echo=False\n",
        "            )\n",
        "\n",
        "    answer =  response[\"choices\"][0][\"text\"]\n",
        "\n",
        "    # Combine user_prompt and system_message to create the prompt\n",
        "    groundedness_prompt = f\"\"\"[INST]{groundedness_rater_system_message}\\n\n",
        "                {'user'}: {user_message_template.format(context=context_for_query, question=user_input, answer=answer)}\n",
        "                [/INST]\"\"\"\n",
        "\n",
        "    # Combine user_prompt and system_message to create the prompt\n",
        "    relevance_prompt = f\"\"\"[INST]{relevance_rater_system_message}\\n\n",
        "                {'user'}: {user_message_template.format(context=context_for_query, question=user_input, answer=answer)}\n",
        "                [/INST]\"\"\"\n",
        "\n",
        "    response_1 = llm(\n",
        "            prompt=groundedness_prompt,\n",
        "            max_tokens=max_tokens,\n",
        "            temperature=temperature,\n",
        "            top_p=top_p,\n",
        "            top_k=top_k,\n",
        "            stop=['INST'],\n",
        "            echo=False\n",
        "            )\n",
        "\n",
        "    response_2 = llm(\n",
        "            prompt=relevance_prompt,\n",
        "            max_tokens=max_tokens,\n",
        "            temperature=temperature,\n",
        "            top_p=top_p,\n",
        "            top_k=top_k,\n",
        "            stop=['INST'],\n",
        "            echo=False\n",
        "            )\n",
        "\n",
        "    return response_1['choices'][0]['text'],response_2['choices'][0]['text']"
      ]
    },
    {
      "cell_type": "markdown",
      "metadata": {
        "id": "Y7QICRU-njdj"
      },
      "source": [
        "## Actionable Insights and Business Recommendations"
      ]
    },
    {
      "cell_type": "markdown",
      "metadata": {
        "id": "ybRlzaIhWaM9"
      },
      "source": [
        "<font size=6 color='blue'>Power Ahead</font>\n",
        "___"
      ]
    }
  ],
  "metadata": {
    "accelerator": "GPU",
    "colab": {
      "collapsed_sections": [
        "3CNz35ia6Bz3",
        "CkRbhMJH6Bz3",
        "CARPKFwm6Bz4",
        "by9EvAnkSpZf",
        "lnwETBOE6Bz5",
        "TtZWqj0wFTS1",
        "Uq1lhM4WFTS2",
        "EzzkvIXvFTS4",
        "K8YgK91SFjVY",
        "J6yxICeVFjVc",
        "oflaoOGiFjVd",
        "WUUqY4FbFjVe",
        "5laPFTHrFjVf",
        "g5myZ5dOOefc",
        "9Jg3r_LWOeff",
        "iYpyw4HjOeff",
        "dRp92JQZOeff",
        "AA45zwyUOefg",
        "TYXxiSuBOefg",
        "t_O1PGdNO2M9",
        "uTpWESc53dL9",
        "ffj0ca3eZT4u",
        "f9weTDzMxRRS",
        "7-wNNalNxPKT",
        "LECMxTH-zB-R",
        "BvHVejcWz0Bl",
        "qiKCOv4X0d7B",
        "uEa5sKc41T1z",
        "vw8qcwq66B0C",
        "TkIteX4m6mny",
        "ffP1SRYbPQHN",
        "JjajBEj06B0E",
        "QDw8zXuq6B0F",
        "TggYyQPL6B0G",
        "1TgxdI-_6B0G",
        "FlHXYCkm6B0H",
        "K7TYrqycEITB",
        "Y7QICRU-njdj"
      ],
      "gpuType": "T4",
      "provenance": []
    },
    "kernel_info": {
      "name": "python310-sdkv2"
    },
    "kernelspec": {
      "display_name": ".venv",
      "language": "python",
      "name": "python3"
    },
    "language_info": {
      "codemirror_mode": {
        "name": "ipython",
        "version": 3
      },
      "file_extension": ".py",
      "mimetype": "text/x-python",
      "name": "python",
      "nbconvert_exporter": "python",
      "pygments_lexer": "ipython3",
      "version": "3.12.4"
    },
    "microsoft": {
      "host": {
        "AzureML": {
          "notebookHasBeenCompleted": true
        }
      },
      "ms_spell_check": {
        "ms_spell_check_language": "en"
      }
    },
    "nteract": {
      "version": "nteract-front-end@1.0.0"
    }
  },
  "nbformat": 4,
  "nbformat_minor": 0
}
